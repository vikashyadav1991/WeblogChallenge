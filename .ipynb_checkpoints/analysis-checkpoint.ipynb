{
 "cells": [
  {
   "cell_type": "code",
   "execution_count": 2,
   "metadata": {},
   "outputs": [],
   "source": [
    "import pandas as pd\n",
    "import pyspark\n",
    "from pyspark.sql import SparkSession\n",
    "from pyspark.sql import SQLContext, Window\n",
    "from pyspark.sql import functions as F\n",
    "from pyspark.sql import types as T\n",
    "import re\n",
    "from user_agents import parse\n",
    "# Load PySpark\n",
    "spark = SparkSession.builder.appName('Analysis').getOrCreate()\n",
    "sc = pyspark.SparkContext.getOrCreate()\n",
    "import os\n",
    "pyspark_submit_args = ' --num-executors 1 --executor-memory 8g --driver-memory 6g pyspark-shell'\n",
    "os.environ[\"PYSPARK_SUBMIT_ARGS\"] = pyspark_submit_args"
   ]
  },
  {
   "cell_type": "markdown",
   "metadata": {},
   "source": [
    "Processing & Analytical goals:\n",
    "------------"
   ]
  },
  {
   "cell_type": "code",
   "execution_count": 3,
   "metadata": {},
   "outputs": [],
   "source": [
    "# Parsing the raw log file into a RDD\n",
    "regx = r\"^(\\S+) (\\S+) (\\S+) (\\S+) (\\S+) (\\S+) (\\S+) (\\S+) (\\S+) (\\S+) (\\S+) (\\S+) (\\S+) \\S+ (.*) (\\S+) (\\S+)$\"\n",
    "rdd = sc.textFile(\"data/2015_07_22_mktplace_shop_web_log_sample.log.gz\").map(lambda x: re.split(regx, x)[1:17])\n",
    "rdd_ = rdd.map(lambda x: (x[0], x[1], x[2], x[3], float(x[4]), float(x[5]), float(x[6]), int(x[7]), int(x[8]), \n",
    "                          int(x[9]), int(x[10]), x[11].strip('\"'), x[12].lower(), x[13].strip('\"'), x[14], x[15]))"
   ]
  },
  {
   "cell_type": "code",
   "execution_count": 4,
   "metadata": {},
   "outputs": [],
   "source": [
    "# Schema for parsed log\n",
    "Schema = T.StructType([T.StructField(\"timestamp\", T.StringType(), True),\n",
    "                                    T.StructField(\"elb\", T.StringType(), True),\n",
    "                                    T.StructField(\"client_port\", T.StringType(), True),\n",
    "                                    T.StructField(\"backend_port\", T.StringType(), True),\n",
    "                                    T.StructField(\"request_processing_time\", T.DoubleType(), True),\n",
    "                                    T.StructField(\"backend_processing_time\", T.DoubleType(), True),\n",
    "                                    T.StructField(\"response_processing_time\", T.DoubleType(), True),\n",
    "                                    T.StructField(\"elb_status_code\", T.LongType(), True),\n",
    "                                    T.StructField(\"backend_status_code\", T.LongType(), True),\n",
    "                                    T.StructField(\"received_bytes\", T.LongType(), True),\n",
    "                                    T.StructField(\"sent_bytes\", T.LongType(), True),\n",
    "                                    T.StructField(\"request_type\", T.StringType(), True), #GET, POST etc.\n",
    "                                    T.StructField(\"request\", T.StringType(), True),\n",
    "                                    T.StructField(\"user_agent\", T.StringType(), True),\n",
    "                                    T.StructField(\"ssl_cipher\", T.StringType(), True),\n",
    "                                    T.StructField(\"ssl_protocol\", T.StringType(), True)])"
   ]
  },
  {
   "cell_type": "code",
   "execution_count": 5,
   "metadata": {},
   "outputs": [],
   "source": [
    "# RDD converted to DataFame\n",
    "df = spark.createDataFrame(rdd_, schema=Schema).withColumn(\"client_ip\", F.split(F.col(\"client_port\"), ':')[0])\\\n",
    ".withColumn(\"unix_timestamp\", F.unix_timestamp(F.col(\"timestamp\").substr(0,19).cast('timestamp'))).cache()"
   ]
  },
  {
   "cell_type": "code",
   "execution_count": 6,
   "metadata": {},
   "outputs": [
    {
     "name": "stdout",
     "output_type": "stream",
     "text": [
      "+-------+---------------------------+----------------+------------------+------------+-----------------------+-----------------------+------------------------+------------------+-------------------+------------------+-----------------+------------+-----------------------------------------+---------------------------------------------------------------------------------------------------+-----------------------+------------+------------+--------------------+\n",
      "|summary|timestamp                  |elb             |client_port       |backend_port|request_processing_time|backend_processing_time|response_processing_time|elb_status_code   |backend_status_code|received_bytes    |sent_bytes       |request_type|request                                  |user_agent                                                                                         |ssl_cipher             |ssl_protocol|client_ip   |unix_timestamp      |\n",
      "+-------+---------------------------+----------------+------------------+------------+-----------------------+-----------------------+------------------------+------------------+-------------------+------------------+-----------------+------------+-----------------------------------------+---------------------------------------------------------------------------------------------------+-----------------------+------------+------------+--------------------+\n",
      "|count  |1158500                    |1158500         |1158500           |1158500     |1158500                |1158500                |1158500                 |1158500           |1158500            |1158500           |1158500          |1158500     |1158500                                  |1158500                                                                                            |1158500                |1158500     |1158500     |1158500             |\n",
      "|mean   |null                       |null            |null              |null        |-1.1705134829516323E-4 |0.033057569863616035   |-1.1899541907570301E-4  |216.7690315062581 |216.69855416486837 |27.532892533448425|5488.19137850669 |null        |null                                     |null                                                                                               |null                   |null        |null        |1.4375689608891368E9|\n",
      "|stddev |null                       |null            |null              |null        |0.011824675161465422   |0.36602516685579267    |0.011824654382180055    |42.312951921691166|42.25417090646637  |204.4928732755386 |15629.35180609112|null        |null                                     |null                                                                                               |null                   |null        |null        |15682.792221806674  |\n",
      "|min    |2015-07-22T02:40:06.499174Z|marketpalce-shop|1.186.101.79:50613|-           |-1.0                   |-1.0                   |-1.0                    |200               |0                  |0                 |0                |DELETE      |http://123.249.24.233:80/post_ip_port.php|                                                                                                   |-                      |-           |1.186.101.79|1437532806          |\n",
      "|max    |2015-07-22T21:10:27.993803Z|marketpalce-shop|99.8.170.3:60015  |10.0.6.99:81|1.51E-4                |58.698117              |0.001433                |504               |504                |23403             |1068957          |PUT         |https://www.paytm.com:443/tickets        |ultrafone 105+(Linux; U;) AppleWebKit/534.30 (KHTML, like Gecko) Version/4.0.3 Mobile Safari/534.30|ECDHE-RSA-AES128-SHA256|TLSv1.2     |99.8.170.3  |1437599427          |\n",
      "+-------+---------------------------+----------------+------------------+------------+-----------------------+-----------------------+------------------------+------------------+-------------------+------------------+-----------------+------------+-----------------------------------------+---------------------------------------------------------------------------------------------------+-----------------------+------------+------------+--------------------+\n",
      "\n"
     ]
    }
   ],
   "source": [
    "# Printing the summary for the dataframe\n",
    "df.describe().show(100, False)"
   ]
  },
  {
   "cell_type": "markdown",
   "metadata": {},
   "source": [
    "1) Sessionize the web log by IP. Sessionize = aggregrate all page hits by visitor/IP during a session.\n",
    "---------\n",
    "https://en.wikipedia.org/wiki/Session_(web_analytics)"
   ]
  },
  {
   "cell_type": "code",
   "execution_count": 7,
   "metadata": {},
   "outputs": [],
   "source": [
    "# UDF to assign session_id to each request.\n",
    "# IP represents individual User\n",
    "# Each user session can be of maximum 15 minutes\n",
    "\n",
    "session_schema = T.ArrayType(T.StructType([T.StructField(\"client_port\", T.StringType(), False),\n",
    "                                           T.StructField(\"timestamp\", T.StringType(), False),\n",
    "                                           T.StructField(\"session_id\", T.IntegerType(), False)]))\n",
    "\n",
    "# UDF to assign session_id to each record\n",
    "def sessionize(row):\n",
    "    unix_timestamp = list(list(zip(*row))[0])\n",
    "    timestamp = list(list(zip(*row))[1])\n",
    "    client_port = list(list(zip(*row))[2])\n",
    "    timeframe = 15*60 # Time Frame 900 Seconds\n",
    "    first_element = unix_timestamp[0]\n",
    "    current_sess_id = 1\n",
    "    session_id = [current_sess_id]\n",
    "    for i in unix_timestamp[1:]:\n",
    "        if (i - first_element) < timeframe:\n",
    "            session_id.append(current_sess_id)\n",
    "        else:\n",
    "            first_element = i\n",
    "            current_sess_id += 1\n",
    "            session_id.append(current_sess_id)\n",
    "    return zip(client_port, timestamp, session_id)\n",
    "\n",
    "udf_s = F.udf(lambda x, y, z: sessionize(sorted(zip(z,y,x))), session_schema)"
   ]
  },
  {
   "cell_type": "code",
   "execution_count": 8,
   "metadata": {},
   "outputs": [],
   "source": [
    "df_ = df.groupby('client_ip').agg(udf_s(F.collect_list(\"client_port\"), F.collect_list(\"timestamp\"), F.collect_list(\"unix_timestamp\")).alias('session'))\\\n",
    ".select(\"client_ip\", F.explode(\"session\").alias(\"session\"))\\\n",
    ".select(\"client_ip\", F.col(\"session\").client_port.alias(\"client_port\"), F.col(\"session\").timestamp.alias(\"timestamp\"), F.col(\"session\").session_id.alias(\"session_id\"))"
   ]
  },
  {
   "cell_type": "code",
   "execution_count": 9,
   "metadata": {},
   "outputs": [
    {
     "name": "stdout",
     "output_type": "stream",
     "text": [
      "+------------+------------------+---------------------------+----------+\n",
      "|client_ip   |client_port       |timestamp                  |session_id|\n",
      "+------------+------------------+---------------------------+----------+\n",
      "|1.186.143.37|1.186.143.37:11395|2015-07-22T16:14:36.308131Z|1         |\n",
      "|1.186.143.37|1.186.143.37:11395|2015-07-22T16:14:44.846873Z|1         |\n",
      "|1.187.164.29|1.187.164.29:49414|2015-07-22T02:43:31.135201Z|1         |\n",
      "|1.187.164.29|1.187.164.29:49414|2015-07-22T02:43:42.735304Z|1         |\n",
      "|1.187.164.29|1.187.164.29:49414|2015-07-22T02:43:47.685225Z|1         |\n",
      "|1.187.164.29|1.187.164.29:49414|2015-07-22T02:44:19.075268Z|1         |\n",
      "|1.187.164.29|1.187.164.29:49414|2015-07-22T02:44:20.084871Z|1         |\n",
      "|1.187.164.29|1.187.164.29:17025|2015-07-22T02:44:21.995557Z|1         |\n",
      "|1.187.164.29|1.187.164.29:49414|2015-07-22T02:44:23.254646Z|1         |\n",
      "|1.187.164.29|1.187.164.29:17025|2015-07-22T02:44:23.295011Z|1         |\n",
      "+------------+------------------+---------------------------+----------+\n",
      "only showing top 10 rows\n",
      "\n"
     ]
    }
   ],
   "source": [
    "df_.select(\"client_ip\", \"client_port\", \"timestamp\", \"session_id\").show(10, False)"
   ]
  },
  {
   "cell_type": "code",
   "execution_count": 10,
   "metadata": {},
   "outputs": [],
   "source": [
    "# Joining the original dataframe with the dataframe with session id, droping the duplicate columns\n",
    "# Output is a new dataframe = original raw data + session_id\n",
    "df_1 = df.join(df_, ['client_port', 'timestamp'], 'inner').drop(df_.timestamp).drop(df_.client_ip).drop(df_.client_port).cache()"
   ]
  },
  {
   "cell_type": "markdown",
   "metadata": {},
   "source": [
    "2) Determine the average session time\n",
    "----------"
   ]
  },
  {
   "cell_type": "code",
   "execution_count": 12,
   "metadata": {},
   "outputs": [],
   "source": [
    "# Function to extract the session length, number of unique request in a user/IP session\n",
    "def analyze(df):\n",
    "    df_ = df.groupby(\"client_ip\", \"session_id\").agg(F.min(\"timestamp\").alias(\"from_timestamp\"), F.max(\"timestamp\").alias(\"to_timestamp\"), ((F.max(\"unix_timestamp\") - F.min(\"unix_timestamp\") + 1)).alias(\"session_length\"), F.countDistinct(\"request\").alias(\"unique_url_request\"))\n",
    "    return df_\n",
    "    "
   ]
  },
  {
   "cell_type": "code",
   "execution_count": 13,
   "metadata": {},
   "outputs": [],
   "source": [
    "df_2 = analyze(df_1.select(\"client_ip\", \"session_id\", \"timestamp\", \"unix_timestamp\", \"request\")).cache()"
   ]
  },
  {
   "cell_type": "code",
   "execution_count": 14,
   "metadata": {},
   "outputs": [
    {
     "name": "stdout",
     "output_type": "stream",
     "text": [
      "+-------------+----------+---------------------------+---------------------------+--------------+------------------+\n",
      "|client_ip    |session_id|from_timestamp             |to_timestamp               |session_length|unique_url_request|\n",
      "+-------------+----------+---------------------------+---------------------------+--------------+------------------+\n",
      "|1.186.37.28  |1         |2015-07-22T10:31:24.915677Z|2015-07-22T10:34:51.085597Z|208           |52                |\n",
      "|1.187.203.5  |1         |2015-07-22T16:41:16.877706Z|2015-07-22T16:42:40.378450Z|85            |4                 |\n",
      "|1.187.205.138|1         |2015-07-22T17:42:16.189614Z|2015-07-22T17:42:29.109317Z|14            |3                 |\n",
      "|1.187.247.221|1         |2015-07-22T10:48:03.596780Z|2015-07-22T10:49:50.318141Z|108           |4                 |\n",
      "|1.187.249.242|1         |2015-07-22T16:22:01.577228Z|2015-07-22T16:22:28.014105Z|28            |10                |\n",
      "|1.22.120.162 |1         |2015-07-22T16:44:24.902959Z|2015-07-22T16:44:38.150257Z|15            |5                 |\n",
      "|1.22.128.213 |1         |2015-07-22T16:43:30.377785Z|2015-07-22T16:43:36.269095Z|7             |4                 |\n",
      "|1.22.174.33  |1         |2015-07-22T16:22:20.552041Z|2015-07-22T16:24:07.673715Z|108           |9                 |\n",
      "|1.22.205.107 |1         |2015-07-22T16:20:42.116835Z|2015-07-22T16:20:42.116835Z|1             |1                 |\n",
      "|1.23.128.2   |1         |2015-07-22T18:04:03.767028Z|2015-07-22T18:05:08.489471Z|66            |6                 |\n",
      "+-------------+----------+---------------------------+---------------------------+--------------+------------------+\n",
      "only showing top 10 rows\n",
      "\n"
     ]
    }
   ],
   "source": [
    "df_2.show(10, False)"
   ]
  },
  {
   "cell_type": "code",
   "execution_count": 15,
   "metadata": {},
   "outputs": [
    {
     "name": "stdout",
     "output_type": "stream",
     "text": [
      "Number of Distinct Sessions = 113382\n",
      "Average Session Time (Seconds) for all users = 90.3661163148\n"
     ]
    }
   ],
   "source": [
    "print(\"Number of Distinct Sessions = {}\".format(df_2.count()))\n",
    "print(\"Average Session Time (Seconds) for all users = {}\".format(df_2.agg(F.avg(\"session_length\").alias(\"avg_session_time\")).collect()[0][\"avg_session_time\"]))"
   ]
  },
  {
   "cell_type": "markdown",
   "metadata": {},
   "source": [
    "3) Determine unique URL visits per session. To clarify, count a hit to a unique URL only once per session.\n",
    "----------------"
   ]
  },
  {
   "cell_type": "code",
   "execution_count": 18,
   "metadata": {},
   "outputs": [
    {
     "name": "stdout",
     "output_type": "stream",
     "text": [
      "20 User/IP sessions with most number of unique URL requests\n",
      "+-------------+---------------------------+---------------------------+----------+------------------+\n",
      "|client_ip    |from_timestamp             |to_timestamp               |session_id|unique_url_request|\n",
      "+-------------+---------------------------+---------------------------+----------+------------------+\n",
      "|119.81.61.166|2015-07-22T16:10:28.394091Z|2015-07-22T16:25:05.211263Z|8         |8016              |\n",
      "|52.74.219.71 |2015-07-22T16:10:28.056562Z|2015-07-22T16:25:05.202249Z|8         |5478              |\n",
      "|52.74.219.71 |2015-07-22T10:30:28.220275Z|2015-07-22T10:39:47.427020Z|5         |5057              |\n",
      "|106.186.23.95|2015-07-22T21:05:28.048908Z|2015-07-22T21:10:27.952944Z|12        |4656              |\n",
      "|119.81.61.166|2015-07-22T17:40:28.042128Z|2015-07-22T17:45:28.037648Z|10        |3928              |\n",
      "|119.81.61.166|2015-07-22T18:00:28.603200Z|2015-07-22T18:05:27.768298Z|11        |3637              |\n",
      "|119.81.61.166|2015-07-22T02:40:06.770390Z|2015-07-22T02:45:03.781765Z|1         |3334              |\n",
      "|52.74.219.71 |2015-07-22T18:00:28.444086Z|2015-07-22T18:05:27.566212Z|11        |2907              |\n",
      "|119.81.61.166|2015-07-22T21:05:28.042763Z|2015-07-22T21:10:27.654732Z|12        |2841              |\n",
      "|119.81.61.166|2015-07-22T16:40:28.222688Z|2015-07-22T16:44:48.462751Z|9         |2786              |\n",
      "|106.51.132.54|2015-07-22T16:10:28.051642Z|2015-07-22T16:14:52.013537Z|1         |2609              |\n",
      "|52.74.219.71 |2015-07-22T09:00:28.348141Z|2015-07-22T09:04:43.352165Z|4         |2572              |\n",
      "|52.74.219.71 |2015-07-22T10:45:28.320258Z|2015-07-22T10:49:52.557803Z|6         |2569              |\n",
      "|52.74.219.71 |2015-07-22T17:40:28.080159Z|2015-07-22T17:45:27.904253Z|10        |2535              |\n",
      "|52.74.219.71 |2015-07-22T21:05:28.077091Z|2015-07-22T21:10:27.950160Z|12        |2466              |\n",
      "|52.74.219.71 |2015-07-22T16:40:28.370059Z|2015-07-22T16:44:48.434167Z|9         |2458              |\n",
      "|52.74.219.71 |2015-07-22T05:10:07.342661Z|2015-07-22T05:15:07.066653Z|2         |2037              |\n",
      "|52.74.219.71 |2015-07-22T11:00:28.722157Z|2015-07-22T11:04:57.382184Z|7         |1958              |\n",
      "|54.169.20.106|2015-07-22T16:10:29.567476Z|2015-07-22T16:24:03.207080Z|3         |1896              |\n",
      "|119.81.61.166|2015-07-22T06:55:07.896678Z|2015-07-22T07:00:07.059378Z|3         |1671              |\n",
      "+-------------+---------------------------+---------------------------+----------+------------------+\n",
      "only showing top 20 rows\n",
      "\n"
     ]
    }
   ],
   "source": [
    "# df_2.unique_url_request contains the number of unique URL request made by a client during a session.\n",
    "print(\"20 User/IP sessions with most number of unique URL requests\")\n",
    "df_2.select(\"client_ip\", \"from_timestamp\", \"to_timestamp\", \"session_id\", \"unique_url_request\").sort(\"unique_url_request\", ascending=False).show(20, False)"
   ]
  },
  {
   "cell_type": "markdown",
   "metadata": {},
   "source": [
    "4) Find the most engaged users, ie the IPs with the longest session times.\n",
    "------------\n"
   ]
  },
  {
   "cell_type": "code",
   "execution_count": 19,
   "metadata": {},
   "outputs": [
    {
     "name": "stdout",
     "output_type": "stream",
     "text": [
      "20 Most Engaged Users (IP with largest total session times)\n",
      "+---------------+------------------------------+\n",
      "|client_ip      |total_session_length (Minutes)|\n",
      "+---------------+------------------------------+\n",
      "|54.251.151.39  |87.38333333333334             |\n",
      "|121.58.175.128 |82.63333333333334             |\n",
      "|220.226.206.7  |81.66666666666667             |\n",
      "|180.179.213.94 |73.3                          |\n",
      "|52.74.219.71   |71.55                         |\n",
      "|119.81.61.166  |71.45                         |\n",
      "|54.252.254.204 |71.38333333333334             |\n",
      "|122.252.231.14 |69.65                         |\n",
      "|180.179.213.71 |69.23333333333333             |\n",
      "|207.46.13.22   |67.7                          |\n",
      "|106.186.23.95  |66.1                          |\n",
      "|176.34.159.236 |65.66666666666667             |\n",
      "|54.255.254.236 |64.96666666666667             |\n",
      "|168.235.197.212|63.86666666666667             |\n",
      "|54.232.40.76   |63.56666666666667             |\n",
      "|54.243.31.236  |63.1                          |\n",
      "|116.50.59.180  |62.21666666666667             |\n",
      "|177.71.207.172 |61.93333333333333             |\n",
      "|54.183.255.140 |61.916666666666664            |\n",
      "|125.19.44.66   |61.43333333333333             |\n",
      "+---------------+------------------------------+\n",
      "only showing top 20 rows\n",
      "\n"
     ]
    }
   ],
   "source": [
    "# df.session_length contains the length of a user session. \n",
    "# Aggregate for each user to extract total session time for a user/IP\n",
    "print(\"20 Most Engaged Users (IP with largest total session times)\")\n",
    "df_2.groupby(\"client_ip\").agg((F.sum(\"session_length\")/F.lit(60.0)).alias(\"total_session_length (Minutes)\")).sort(\"total_session_length (Minutes)\", ascending=False).show(20, False)"
   ]
  },
  {
   "cell_type": "markdown",
   "metadata": {},
   "source": [
    "Additional questions for Machine Learning Engineer (MLE) candidates:\n",
    "---------------"
   ]
  },
  {
   "cell_type": "code",
   "execution_count": 20,
   "metadata": {},
   "outputs": [],
   "source": [
    "# Extract the relevant features per Minute \n",
    "df_t_1 = df_1.withColumn(\"hour_minute\", df.timestamp.substr(12,5))\\\n",
    ".withColumn(\"hour\", df.timestamp.substr(12,2).cast('integer'))\\\n",
    ".withColumn(\"timestamp\", F.col(\"timestamp\").substr(0,16).cast('timestamp'))\n",
    "\n",
    "df_t_2 = df_t_1.groupby(\"timestamp\").agg((F.count(\"timestamp\")/60).alias(\"label\"),\n",
    "                                        F.sum(\"received_bytes\").alias(\"received_bytes\"), \n",
    "                                        F.sum(\"sent_bytes\").alias(\"sent_bytes\"), \n",
    "                                        F.countDistinct(\"request\").alias(\"unique_request_count\"), \n",
    "                                        F.countDistinct(\"client_ip\").alias(\"unique_ip_count\"), \n",
    "                                        F.first(\"hour_minute\").alias(\"hour_minute\"), \n",
    "                                        F.first(\"hour\").alias(\"hour\")).sort([\"hour_minute\"]).cache()"
   ]
  },
  {
   "cell_type": "code",
   "execution_count": 21,
   "metadata": {},
   "outputs": [],
   "source": [
    "# Prepare the feature and label, target variable is load per seconds\n",
    "# Features include the observations from previous minute/timestep\n",
    "w = Window.partitionBy().orderBy([\"hour_minute\"])\n",
    "df_t_3 = df_t_2.select(\"hour\", \"hour_minute\", F.lag(\"sent_bytes\").over(w).alias(\"prev_sent_bytes\"), \n",
    "                       F.lag(\"received_bytes\").over(w).alias(\"prev_received_bytes\"), \n",
    "                       F.lag(\"unique_request_count\").over(w).alias(\"prev_unique_request_count\"), \n",
    "                       F.lag(\"unique_ip_count\").over(w).alias(\"prev_unique_ip_count\"), \n",
    "                       F.lag(\"label\").over(w).alias(\"prev_load\"), \"label\").where(F.col(\"prev_sent_bytes\").isNotNull()).cache()"
   ]
  },
  {
   "cell_type": "code",
   "execution_count": 22,
   "metadata": {},
   "outputs": [],
   "source": [
    "# Splitting the data into train and test set\n",
    "train, test = df_t_3.randomSplit([0.8, 0.2], seed=2019)"
   ]
  },
  {
   "cell_type": "markdown",
   "metadata": {},
   "source": [
    "1) Predict the expected load (requests/second) in the next minute\n",
    "----------------"
   ]
  },
  {
   "cell_type": "code",
   "execution_count": 25,
   "metadata": {},
   "outputs": [],
   "source": [
    "# Using Gradient Boosted Tree for Regression\n",
    "from pyspark.ml import Pipeline\n",
    "from pyspark.ml.regression import GBTRegressor\n",
    "from pyspark.ml.evaluation import RegressionEvaluator\n",
    "from pyspark.ml.tuning import CrossValidator, ParamGridBuilder\n",
    "from pyspark.ml.feature import VectorAssembler\n",
    "\n",
    "assembler = VectorAssembler(inputCols=[\"prev_sent_bytes\", \"prev_received_bytes\", \n",
    "                                       \"prev_unique_request_count\", \"prev_unique_ip_count\"], outputCol=\"features\")\n",
    "gbt = GBTRegressor(seed=42, featuresCol=\"features\", labelCol=\"label\")\n",
    "pipeline = Pipeline(stages=[assembler, gbt])\n",
    "\n",
    "# Fintuning the tree depth using cross validation\n",
    "paramGrid = ParamGridBuilder().addGrid(gbt.maxDepth, [4, 5, 6]).build()\n",
    "crossval = CrossValidator(estimator=pipeline, estimatorParamMaps=paramGrid, evaluator=RegressionEvaluator(), numFolds=5)\n",
    "\n",
    "# Run cross-validation, and choose the best set of parameters.\n",
    "cvModel = crossval.fit(train)\n",
    "\n",
    "# Make predictions on test documents. cvModel uses the best model found (gbt).\n",
    "prediction = cvModel.transform(test)"
   ]
  },
  {
   "cell_type": "code",
   "execution_count": 27,
   "metadata": {},
   "outputs": [
    {
     "name": "stdout",
     "output_type": "stream",
     "text": [
      "Chosen Parameter value maxDepth for GBT = 4\n"
     ]
    }
   ],
   "source": [
    "print(\"Chosen Parameter value maxDepth for GBT = {}\".format(cvModel.bestModel.stages[1]._java_obj.getMaxDepth()))"
   ]
  },
  {
   "cell_type": "code",
   "execution_count": 28,
   "metadata": {},
   "outputs": [
    {
     "name": "stdout",
     "output_type": "stream",
     "text": [
      "Train\n",
      "RMSE: 11.323519\n",
      "r2: 0.994545\n",
      "\n",
      "Test\n",
      "RMSE: 88.358379\n",
      "r2: 0.674417\n"
     ]
    }
   ],
   "source": [
    "# Printing the training and test metric - RMSE, R2\n",
    "evaluator = RegressionEvaluator()\n",
    "print(\"Train\")\n",
    "print(\"RMSE: %f\" % evaluator.evaluate(cvModel.transform(train), {evaluator.metricName: \"rmse\"}))\n",
    "print(\"r2: %f\" % evaluator.evaluate(cvModel.transform(train), {evaluator.metricName: \"r2\"}))\n",
    "print(\"\")\n",
    "\n",
    "print(\"Test\")\n",
    "print(\"RMSE: %f\" % evaluator.evaluate(cvModel.transform(test), {evaluator.metricName: \"rmse\"}))\n",
    "print(\"r2: %f\" % evaluator.evaluate(cvModel.transform(test), {evaluator.metricName: \"r2\"}))"
   ]
  },
  {
   "cell_type": "code",
   "execution_count": 30,
   "metadata": {},
   "outputs": [
    {
     "data": {
      "image/png": "[encoded data removed]",
      "text/plain": [
       "<Figure size 720x288 with 1 Axes>"
      ]
     },
     "metadata": {
      "needs_background": "light"
     },
     "output_type": "display_data"
    }
   ],
   "source": [
    "# Ploting the result on test data\n",
    "%matplotlib inline\n",
    "import matplotlib.pyplot as plt\n",
    "import numpy as np\n",
    "\n",
    "plot_data = np.array(sorted(cvModel.transform(test)\\\n",
    "                             .select(F.col(\"hour_minute\"), F.col(\"label\"), F.col(\"prediction\"))\\\n",
    "                             .rdd.map(lambda x: [x['hour_minute'], x['label'], x['prediction']]).collect()))\n",
    "\n",
    "fig = plt.figure(figsize=[10,4])\n",
    "plt.plot(plot_data[:,0], np.array(plot_data[:,1], 'float'), 'o',\n",
    "         plot_data[:,0], np.array(plot_data[:,2], 'float'), 'v')\n",
    "plt.xlabel('Time (HH-MM)')\n",
    "plt.ylabel('Load (Request/sec)')\n",
    "plt.xticks(rotation=45)\n",
    "plt.legend(['Actual', 'Predicted'])\n",
    "plt.title(\"Actual vs Predicted load on the test data\")\n",
    "plt.show()"
   ]
  },
  {
   "cell_type": "markdown",
   "metadata": {},
   "source": [
    "2) Predict the session length for a given IP\n",
    "------------"
   ]
  },
  {
   "cell_type": "code",
   "execution_count": 32,
   "metadata": {},
   "outputs": [],
   "source": [
    "# UDF to extract the device type based on user_agent string\n",
    "def get_device_type(user_agent):\n",
    "    parsed = parse(user_agent)\n",
    "    return 'bot' if parsed.is_bot else ('mobile' if parsed.is_mobile else 'pc' if parsed.is_pc else 'other')\n",
    "\n",
    "udf_device_type = F.udf(lambda user_agent: get_device_type(user_agent), T.StringType())"
   ]
  },
  {
   "cell_type": "code",
   "execution_count": 34,
   "metadata": {},
   "outputs": [],
   "source": [
    "# Preparing the feature for predicting session length for a given IP based on its historic feature values\n",
    "df_u_1 = df_t_1.groupby(\"client_ip\", \"session_id\")\\\n",
    ".agg(((F.max(\"unix_timestamp\") - F.min(\"unix_timestamp\"))/F.lit(60.0)).alias(\"session_length\"),\n",
    "     F.countDistinct(\"request\").alias(\"unique_url\"), \n",
    "     F.sum(\"sent_bytes\").alias(\"sent_bytes\"), \n",
    "     F.sum(\"received_bytes\").alias(\"received_bytes\"), \n",
    "     udf_device_type(F.first(\"user_agent\")).alias(\"device_type\"),\n",
    "     F.first(\"hour\").alias(\"hour\")).where(F.col(\"session_length\") > 0)"
   ]
  },
  {
   "cell_type": "code",
   "execution_count": 36,
   "metadata": {},
   "outputs": [],
   "source": [
    "# Predict the session length based on the device type, previous session length, hour of the day\n",
    "w = Window.partitionBy(\"client_ip\").orderBy([\"session_id\"])\n",
    "df_u_2 = df_u_1.select(\"client_ip\", \"session_id\", \"session_length\", \"unique_url\", \"hour\", \\\n",
    "                   F.lag(\"sent_bytes\").over(w).alias(\"prev_sent_bytes\"), \\\n",
    "                   F.lag(\"received_bytes\").over(w).alias(\"prev_received_bytes\"), \\\n",
    "                   F.lag(\"device_type\").over(w).alias(\"prev_device_type\"), \\\n",
    "                   F.lag(\"session_length\").over(w).alias(\"prev_session_length\"), \\\n",
    "                   F.lag(\"unique_url\").over(w).alias(\"prev_unique_url\"))\\\n",
    "                   .where(F.col(\"prev_device_type\").isNotNull()).cache()\n",
    "\n",
    "train, test = df_u_2.withColumn(\"label\", F.col(\"session_length\")).randomSplit([0.8, 0.2], seed=2019)"
   ]
  },
  {
   "cell_type": "code",
   "execution_count": 37,
   "metadata": {},
   "outputs": [],
   "source": [
    "# Using Gradient Boosted Tree Regressor for predicting the session length\n",
    "from pyspark.ml import Pipeline\n",
    "from pyspark.ml.regression import GBTRegressor\n",
    "from pyspark.ml.evaluation import RegressionEvaluator\n",
    "from pyspark.ml.tuning import CrossValidator, ParamGridBuilder\n",
    "from pyspark.ml.feature import VectorAssembler, StringIndexer\n",
    "from pyspark.ml.feature import OneHotEncoderEstimator\n",
    "\n",
    "indexer = StringIndexer(inputCol=\"prev_device_type\", outputCol=\"categoryIndexPrevDeviceType\")\n",
    "encoder = OneHotEncoderEstimator(inputCols=[\"categoryIndexPrevDeviceType\"], outputCols=[\"categoryDeviceType\"])\n",
    "assembler = VectorAssembler(inputCols=[\"categoryDeviceType\", \"prev_session_length\", \"hour\"], outputCol=\"features\")\n",
    "\n",
    "gbt = GBTRegressor(seed=42, featuresCol=\"features\", labelCol=\"label\")\n",
    "pipeline = Pipeline(stages=[indexer, encoder, assembler, gbt])\n",
    "\n",
    "# Finetune the depth of the Gradient Boosted regression tree\n",
    "paramGrid = ParamGridBuilder().addGrid(gbt.maxDepth, [4, 5, 6]).build()\n",
    "crossval = CrossValidator(estimator=pipeline, estimatorParamMaps=paramGrid, evaluator=RegressionEvaluator(), numFolds=5)\n",
    "# Run cross-validation, and choose the best set of parameters.\n",
    "cvModel = crossval.fit(train)\n",
    "\n",
    "# Make predictions on test documents. cvModel uses the best model found (lrModel).\n",
    "prediction = cvModel.transform(test)"
   ]
  },
  {
   "cell_type": "code",
   "execution_count": 45,
   "metadata": {},
   "outputs": [
    {
     "name": "stdout",
     "output_type": "stream",
     "text": [
      "Parameter value maxDepth for GBTRegressor = 4\n"
     ]
    }
   ],
   "source": [
    "print(\"Parameter value maxDepth for GBTRegressor = {}\".format(cvModel.bestModel.stages[3]._java_obj.getMaxDepth()))"
   ]
  },
  {
   "cell_type": "code",
   "execution_count": 46,
   "metadata": {},
   "outputs": [
    {
     "name": "stdout",
     "output_type": "stream",
     "text": [
      "Train\n",
      "RMSE: 3.571893\n",
      "r2: 0.147814\n",
      "\n",
      "Test\n",
      "RMSE: 3.686184\n",
      "r2: 0.131557\n"
     ]
    }
   ],
   "source": [
    "# Printing the training and test metric - RMSE, R2\n",
    "evaluator = RegressionEvaluator()\n",
    "print(\"Train\")\n",
    "print(\"RMSE: %f\" % evaluator.evaluate(cvModel.transform(train), {evaluator.metricName: \"rmse\"}))\n",
    "print(\"r2: %f\" % evaluator.evaluate(cvModel.transform(train), {evaluator.metricName: \"r2\"}))\n",
    "print(\"\")\n",
    "print(\"Test\")\n",
    "print(\"RMSE: %f\" % evaluator.evaluate(cvModel.transform(test), {evaluator.metricName: \"rmse\"}))\n",
    "print(\"r2: %f\" % evaluator.evaluate(cvModel.transform(test), {evaluator.metricName: \"r2\"}))"
   ]
  },
  {
   "cell_type": "code",
   "execution_count": 48,
   "metadata": {},
   "outputs": [
    {
     "data": {
      "image/png": "[encoded data removed]",
      "text/plain": [
       "<Figure size 720x288 with 1 Axes>"
      ]
     },
     "metadata": {
      "needs_background": "light"
     },
     "output_type": "display_data"
    }
   ],
   "source": [
    "# Ploting the result on sample test data\n",
    "%matplotlib inline \n",
    "import matplotlib.pyplot as plt\n",
    "import numpy as np\n",
    "\n",
    "plot_data = np.array(sorted(cvModel.transform(test).sample(0.008, False)\\\n",
    "                             .select(F.col(\"client_ip\"), F.col(\"label\"), F.col(\"prediction\"))\\\n",
    "                             .rdd.map(lambda x: [x['client_ip'], x['label'], x['prediction']]).collect()))\n",
    "\n",
    "fig = plt.figure(figsize=[10,4])\n",
    "plt.plot(plot_data[:,0], np.array(plot_data[:,1], 'float'), 'o',\n",
    "         plot_data[:,0], np.array(plot_data[:,2], 'float'), 'v')\n",
    "plt.xlabel('client IP')\n",
    "plt.ylabel('Session Length (Minutes)')\n",
    "plt.xticks(rotation=45)\n",
    "plt.legend(['Actual', 'Predicted'])\n",
    "plt.title(\"Actual vs Predicted Session Length on the test data\")\n",
    "plt.show()"
   ]
  },
  {
   "cell_type": "markdown",
   "metadata": {},
   "source": [
    "3) Predict the number of unique URL visits by a given IP\n",
    "------------------"
   ]
  },
  {
   "cell_type": "code",
   "execution_count": 49,
   "metadata": {},
   "outputs": [],
   "source": [
    "# Preparing training and test data for predicting number of unique URL visited by a USER/IP during a session\n",
    "train, test = df_u_2.withColumn(\"label\", F.col(\"unique_url\")).randomSplit([0.8, 0.2], seed=2019)"
   ]
  },
  {
   "cell_type": "code",
   "execution_count": 51,
   "metadata": {},
   "outputs": [],
   "source": [
    "# Using a linear regression model to predict the expected number of unique URL visits by a user during a session.\n",
    "from pyspark.ml import Pipeline\n",
    "from pyspark.ml.regression import LinearRegression\n",
    "from pyspark.ml.evaluation import RegressionEvaluator\n",
    "from pyspark.ml.tuning import CrossValidator, ParamGridBuilder\n",
    "from pyspark.ml.feature import VectorAssembler, StringIndexer\n",
    "from pyspark.ml.feature import OneHotEncoderEstimator, PolynomialExpansion\n",
    "\n",
    "indexer = StringIndexer(inputCol=\"prev_device_type\", outputCol=\"categoryIndexPrevDeviceType\")\n",
    "encoder = OneHotEncoderEstimator(inputCols=[\"categoryIndexPrevDeviceType\"], outputCols=[\"categoryDeviceType\"])\n",
    "assembler = VectorAssembler(inputCols=[\"prev_session_length\", \"categoryDeviceType\", \"prev_unique_url\", \"hour\"], outputCol=\"vectorized\")\n",
    "\n",
    "polyExpansion = PolynomialExpansion(inputCol=\"vectorized\", outputCol=\"features\")\n",
    "lr = LinearRegression(featuresCol=\"features\", labelCol=\"label\")\n",
    "pipeline = Pipeline(stages=[indexer, encoder, assembler, polyExpansion, lr])\n",
    "\n",
    "# Finetuning the parameters\n",
    "paramGrid = ParamGridBuilder().addGrid(polyExpansion.degree, [2])\\\n",
    ".addGrid(lr.regParam, [0.1, 0.01])\\\n",
    ".addGrid(lr.fitIntercept, [False, True]).build()\n",
    "\n",
    "crossval = CrossValidator(estimator=pipeline, estimatorParamMaps=paramGrid, evaluator=RegressionEvaluator(), numFolds=5)\n",
    "# Run cross-validation, and choose the best set of parameters.\n",
    "cvModel = crossval.fit(train)\n",
    "\n",
    "# Make predictions on test documents. cvModel uses the best model found (lrModel).\n",
    "prediction = cvModel.transform(test)"
   ]
  },
  {
   "cell_type": "code",
   "execution_count": 52,
   "metadata": {},
   "outputs": [
    {
     "name": "stdout",
     "output_type": "stream",
     "text": [
      "Best model degree of polynomail = 2\n",
      "Best model regParam value = 0.1\n",
      "Best model fitIntercept value = False\n"
     ]
    }
   ],
   "source": [
    "print(\"Best model degree of polynomail = {}\".format(cvModel.bestModel.stages[3]._java_obj.getDegree()))\n",
    "print(\"Best model regParam value = {}\".format(cvModel.bestModel.stages[4]._java_obj.getRegParam()))\n",
    "print(\"Best model fitIntercept value = {}\".format(cvModel.bestModel.stages[4]._java_obj.getFitIntercept()))"
   ]
  },
  {
   "cell_type": "code",
   "execution_count": 53,
   "metadata": {},
   "outputs": [
    {
     "name": "stdout",
     "output_type": "stream",
     "text": [
      "Train\n",
      "RMSE: 95.044260\n",
      "r2: 0.512275\n",
      "\n",
      "Test\n",
      "RMSE: 71.146610\n",
      "r2: 0.618504\n"
     ]
    }
   ],
   "source": [
    "# Printing the training and test metric - RMSE, R2\n",
    "evaluator = RegressionEvaluator()\n",
    "print(\"Train\")\n",
    "print(\"RMSE: %f\" % evaluator.evaluate(cvModel.transform(train), {evaluator.metricName: \"rmse\"}))\n",
    "print(\"r2: %f\" % evaluator.evaluate(cvModel.transform(train), {evaluator.metricName: \"r2\"}))\n",
    "print(\"\")\n",
    "print(\"Test\")\n",
    "print(\"RMSE: %f\" % evaluator.evaluate(cvModel.transform(test), {evaluator.metricName: \"rmse\"}))\n",
    "print(\"r2: %f\" % evaluator.evaluate(cvModel.transform(test), {evaluator.metricName: \"r2\"}))"
   ]
  },
  {
   "cell_type": "code",
   "execution_count": 56,
   "metadata": {},
   "outputs": [
    {
     "data": {
      "image/png": "[encoded data removed]",
      "text/plain": [
       "<Figure size 720x288 with 1 Axes>"
      ]
     },
     "metadata": {
      "needs_background": "light"
     },
     "output_type": "display_data"
    }
   ],
   "source": [
    "# Ploting the result on sample test data\n",
    "%matplotlib inline \n",
    "import matplotlib.pyplot as plt\n",
    "import numpy as np\n",
    "\n",
    "plot_data = np.array(sorted(cvModel.transform(test).sample(0.008, False)\\\n",
    "                             .select(F.col(\"client_ip\"), F.col(\"label\"), F.col(\"prediction\"))\\\n",
    "                             .rdd.map(lambda x: [x['client_ip'], x['label'], x['prediction']]).collect()))\n",
    "\n",
    "fig = plt.figure(figsize=[10,4])\n",
    "plt.plot(plot_data[:,0], np.array(plot_data[:,1], 'float'), 'o',\n",
    "         plot_data[:,0], np.array(plot_data[:,2], 'float'), 'v')\n",
    "plt.xlabel('client IP')\n",
    "plt.ylabel('Number of Unique URL visited')\n",
    "plt.xticks(rotation=45)\n",
    "plt.legend(['Actual', 'Predicted'])\n",
    "plt.title(\"Actual vs Predicted unique URL vists on the test data\")\n",
    "plt.show()"
   ]
  },
  {
   "cell_type": "code",
   "execution_count": null,
   "metadata": {},
   "outputs": [],
   "source": []
  }
 ],
 "metadata": {
  "analyzedDataset": "2015_07_22_mktplace_shop_web_log_sample_sorted",
  "creator": "admin",
  "kernelspec": {
   "display_name": "Python 2",
   "language": "python",
   "name": "python2"
  },
  "language_info": {
   "codemirror_mode": {
    "name": "ipython",
    "version": 2
   },
   "file_extension": ".py",
   "mimetype": "text/x-python",
   "name": "python",
   "nbconvert_exporter": "python",
   "pygments_lexer": "ipython2",
   "version": "2.7.12"
  },
  "tags": []
 },
 "nbformat": 4,
 "nbformat_minor": 1
}

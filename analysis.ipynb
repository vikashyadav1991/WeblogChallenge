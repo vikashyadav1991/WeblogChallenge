{
 "cells": [
  {
   "cell_type": "code",
   "execution_count": 1,
   "metadata": {},
   "outputs": [],
   "source": [
    "import pandas as pd\n",
    "import pyspark\n",
    "from pyspark.sql import SparkSession\n",
    "from pyspark.sql import SQLContext, Window\n",
    "from pyspark.sql import functions as F\n",
    "from pyspark.sql import types as T\n",
    "import re\n",
    "from user_agents import parse\n",
    "# Load PySpark\n",
    "spark = SparkSession.builder.appName('Analysis').getOrCreate()\n",
    "sc = pyspark.SparkContext.getOrCreate()\n",
    "import os\n",
    "pyspark_submit_args = ' --num-executors 1 --executor-memory 8g --driver-memory 6g pyspark-shell'\n",
    "os.environ[\"PYSPARK_SUBMIT_ARGS\"] = pyspark_submit_args"
   ]
  },
  {
   "cell_type": "markdown",
   "metadata": {},
   "source": [
    "Processing & Analytical goals:\n",
    "------------"
   ]
  },
  {
   "cell_type": "code",
   "execution_count": 2,
   "metadata": {},
   "outputs": [],
   "source": [
    "# Parsing the raw log file into a RDD\n",
    "regx = r\"^(\\S+) (\\S+) (\\S+) (\\S+) (\\S+) (\\S+) (\\S+) (\\S+) (\\S+) (\\S+) (\\S+) (\\S+) (\\S+) \\S+ (.*) (\\S+) (\\S+)$\"\n",
    "rdd = sc.textFile(\"data/2015_07_22_mktplace_shop_web_log_sample.log.gz\").map(lambda x: re.split(regx, x)[1:17])\n",
    "rdd_ = rdd.map(lambda x: (x[0], x[1], x[2], x[3], float(x[4]), float(x[5]), float(x[6]), int(x[7]), int(x[8]), \n",
    "                          int(x[9]), int(x[10]), x[11].strip('\"'), x[12].lower(), x[13].strip('\"'), x[14], x[15]))"
   ]
  },
  {
   "cell_type": "code",
   "execution_count": 3,
   "metadata": {},
   "outputs": [
    {
     "data": {
      "text/plain": [
       "1"
      ]
     },
     "execution_count": 3,
     "metadata": {},
     "output_type": "execute_result"
    }
   ],
   "source": [
    "rdd.getNumPartitions()"
   ]
  },
  {
   "cell_type": "code",
   "execution_count": 4,
   "metadata": {},
   "outputs": [],
   "source": [
    "# Schema for parsed log\n",
    "Schema = T.StructType([T.StructField(\"timestamp\", T.StringType(), True),\n",
    "                                    T.StructField(\"elb\", T.StringType(), True),\n",
    "                                    T.StructField(\"client_port\", T.StringType(), True),\n",
    "                                    T.StructField(\"backend_port\", T.StringType(), True),\n",
    "                                    T.StructField(\"request_processing_time\", T.DoubleType(), True),\n",
    "                                    T.StructField(\"backend_processing_time\", T.DoubleType(), True),\n",
    "                                    T.StructField(\"response_processing_time\", T.DoubleType(), True),\n",
    "                                    T.StructField(\"elb_status_code\", T.LongType(), True),\n",
    "                                    T.StructField(\"backend_status_code\", T.LongType(), True),\n",
    "                                    T.StructField(\"received_bytes\", T.LongType(), True),\n",
    "                                    T.StructField(\"sent_bytes\", T.LongType(), True),\n",
    "                                    T.StructField(\"request_type\", T.StringType(), True), #GET, POST etc.\n",
    "                                    T.StructField(\"request\", T.StringType(), True),\n",
    "                                    T.StructField(\"user_agent\", T.StringType(), True),\n",
    "                                    T.StructField(\"ssl_cipher\", T.StringType(), True),\n",
    "                                    T.StructField(\"ssl_protocol\", T.StringType(), True)])"
   ]
  },
  {
   "cell_type": "code",
   "execution_count": 5,
   "metadata": {},
   "outputs": [],
   "source": [
    "# RDD converted to DataFame\n",
    "df = spark.createDataFrame(rdd_, schema=Schema).withColumn(\"client_ip\", F.split(F.col(\"client_port\"), ':')[0])\\\n",
    ".withColumn(\"unix_timestamp\", F.unix_timestamp(F.col(\"timestamp\").substr(0,19).cast('timestamp'))).cache()"
   ]
  },
  {
   "cell_type": "code",
   "execution_count": 6,
   "metadata": {},
   "outputs": [
    {
     "name": "stdout",
     "output_type": "stream",
     "text": [
      "+-------+---------------------------+----------------+------------------+------------+-----------------------+-----------------------+------------------------+------------------+-------------------+------------------+-----------------+------------+-----------------------------------------+---------------------------------------------------------------------------------------------------+-----------------------+------------+------------+--------------------+\n",
      "|summary|timestamp                  |elb             |client_port       |backend_port|request_processing_time|backend_processing_time|response_processing_time|elb_status_code   |backend_status_code|received_bytes    |sent_bytes       |request_type|request                                  |user_agent                                                                                         |ssl_cipher             |ssl_protocol|client_ip   |unix_timestamp      |\n",
      "+-------+---------------------------+----------------+------------------+------------+-----------------------+-----------------------+------------------------+------------------+-------------------+------------------+-----------------+------------+-----------------------------------------+---------------------------------------------------------------------------------------------------+-----------------------+------------+------------+--------------------+\n",
      "|count  |1158500                    |1158500         |1158500           |1158500     |1158500                |1158500                |1158500                 |1158500           |1158500            |1158500           |1158500          |1158500     |1158500                                  |1158500                                                                                            |1158500                |1158500     |1158500     |1158500             |\n",
      "|mean   |null                       |null            |null              |null        |-1.1705134829516323E-4 |0.033057569863616035   |-1.1899541907570301E-4  |216.7690315062581 |216.69855416486837 |27.532892533448425|5488.19137850669 |null        |null                                     |null                                                                                               |null                   |null        |null        |1.4375689608891368E9|\n",
      "|stddev |null                       |null            |null              |null        |0.011824675161465422   |0.36602516685579267    |0.011824654382180055    |42.312951921691166|42.25417090646637  |204.4928732755386 |15629.35180609112|null        |null                                     |null                                                                                               |null                   |null        |null        |15682.792221806674  |\n",
      "|min    |2015-07-22T02:40:06.499174Z|marketpalce-shop|1.186.101.79:50613|-           |-1.0                   |-1.0                   |-1.0                    |200               |0                  |0                 |0                |DELETE      |http://123.249.24.233:80/post_ip_port.php|                                                                                                   |-                      |-           |1.186.101.79|1437532806          |\n",
      "|max    |2015-07-22T21:10:27.993803Z|marketpalce-shop|99.8.170.3:60015  |10.0.6.99:81|1.51E-4                |58.698117              |0.001433                |504               |504                |23403             |1068957          |PUT         |https://www.paytm.com:443/tickets        |ultrafone 105+(Linux; U;) AppleWebKit/534.30 (KHTML, like Gecko) Version/4.0.3 Mobile Safari/534.30|ECDHE-RSA-AES128-SHA256|TLSv1.2     |99.8.170.3  |1437599427          |\n",
      "+-------+---------------------------+----------------+------------------+------------+-----------------------+-----------------------+------------------------+------------------+-------------------+------------------+-----------------+------------+-----------------------------------------+---------------------------------------------------------------------------------------------------+-----------------------+------------+------------+--------------------+\n",
      "\n"
     ]
    }
   ],
   "source": [
    "# Printing the summary for the dataframe\n",
    "df.describe().show(100, False)"
   ]
  },
  {
   "cell_type": "markdown",
   "metadata": {},
   "source": [
    "1) Sessionize the web log by IP. Sessionize = aggregrate all page hits by visitor/IP during a session.\n",
    "---------\n",
    "https://en.wikipedia.org/wiki/Session_(web_analytics)"
   ]
  },
  {
   "cell_type": "code",
   "execution_count": 6,
   "metadata": {},
   "outputs": [],
   "source": [
    "# UDF to assign session_id to each request.\n",
    "# IP represents individual User\n",
    "# Each user session can be of maximum 15 minutes\n",
    "\n",
    "session_schema = T.ArrayType(T.StructType([T.StructField(\"client_port\", T.StringType(), False),\n",
    "                                           T.StructField(\"timestamp\", T.StringType(), False),\n",
    "                                           T.StructField(\"session_id\", T.IntegerType(), False)]))\n",
    "\n",
    "# UDF to assign session_id to each record\n",
    "def sessionize(row):\n",
    "    unix_timestamp = list(list(zip(*row))[0])\n",
    "    timestamp = list(list(zip(*row))[1])\n",
    "    client_port = list(list(zip(*row))[2])\n",
    "    timeframe = 15*60 # Time Frame 900 Seconds\n",
    "    first_element = unix_timestamp[0]\n",
    "    current_sess_id = 1\n",
    "    session_id = [current_sess_id]\n",
    "    for i in unix_timestamp[1:]:\n",
    "        if (i - first_element) < timeframe:\n",
    "            session_id.append(current_sess_id)\n",
    "        else:\n",
    "            first_element = i\n",
    "            current_sess_id += 1\n",
    "            session_id.append(current_sess_id)\n",
    "    return zip(client_port, timestamp, session_id)\n",
    "\n",
    "udf_s = F.udf(lambda x, y, z: sessionize(sorted(zip(z,y,x))), session_schema)"
   ]
  },
  {
   "cell_type": "code",
   "execution_count": 7,
   "metadata": {},
   "outputs": [],
   "source": [
    "df_ = df.groupby('client_ip').agg(udf_s(F.collect_list(\"client_port\"), F.collect_list(\"timestamp\"), F.collect_list(\"unix_timestamp\")).alias('session'))\\\n",
    ".select(\"client_ip\", F.explode(\"session\").alias(\"session\"))\\\n",
    ".select(\"client_ip\", F.col(\"session\").client_port.alias(\"client_port\"), F.col(\"session\").timestamp.alias(\"timestamp\"), F.col(\"session\").session_id.alias(\"session_id\"))"
   ]
  },
  {
   "cell_type": "code",
   "execution_count": 8,
   "metadata": {},
   "outputs": [
    {
     "name": "stdout",
     "output_type": "stream",
     "text": [
      "+------------+------------------+---------------------------+----------+\n",
      "|client_ip   |client_port       |timestamp                  |session_id|\n",
      "+------------+------------------+---------------------------+----------+\n",
      "|1.186.143.37|1.186.143.37:11395|2015-07-22T16:14:36.308131Z|1         |\n",
      "|1.186.143.37|1.186.143.37:11395|2015-07-22T16:14:44.846873Z|1         |\n",
      "|1.187.164.29|1.187.164.29:49414|2015-07-22T02:43:31.135201Z|1         |\n",
      "|1.187.164.29|1.187.164.29:49414|2015-07-22T02:43:42.735304Z|1         |\n",
      "|1.187.164.29|1.187.164.29:49414|2015-07-22T02:43:47.685225Z|1         |\n",
      "|1.187.164.29|1.187.164.29:49414|2015-07-22T02:44:19.075268Z|1         |\n",
      "|1.187.164.29|1.187.164.29:49414|2015-07-22T02:44:20.084871Z|1         |\n",
      "|1.187.164.29|1.187.164.29:17025|2015-07-22T02:44:21.995557Z|1         |\n",
      "|1.187.164.29|1.187.164.29:49414|2015-07-22T02:44:23.254646Z|1         |\n",
      "|1.187.164.29|1.187.164.29:17025|2015-07-22T02:44:23.295011Z|1         |\n",
      "+------------+------------------+---------------------------+----------+\n",
      "only showing top 10 rows\n",
      "\n"
     ]
    }
   ],
   "source": [
    "df_.select(\"client_ip\", \"client_port\", \"timestamp\", \"session_id\").show(10, False)"
   ]
  },
  {
   "cell_type": "code",
   "execution_count": 12,
   "metadata": {},
   "outputs": [],
   "source": [
    "# Join\n",
    "df_1 = df.join(df_, ['client_port', 'timestamp'], 'inner').drop(df_.timestamp).drop(df_.client_ip).drop(df_.client_port).coalesce(1).cache()"
   ]
  },
  {
   "cell_type": "markdown",
   "metadata": {},
   "source": [
    "2) Determine the average session time\n",
    "----------"
   ]
  },
  {
   "cell_type": "code",
   "execution_count": 13,
   "metadata": {},
   "outputs": [],
   "source": [
    "def analyze(df):\n",
    "    df_ = df.groupby(\"client_ip\", \"session_id\").agg(F.min(\"timestamp\").alias(\"from_timestamp\"), F.max(\"timestamp\").alias(\"to_timestamp\"), ((F.max(\"unix_timestamp\") - F.min(\"unix_timestamp\") + 1)).alias(\"session_length\"), F.countDistinct(\"request\").alias(\"unique_url_request\"))\n",
    "    return df_\n",
    "    "
   ]
  },
  {
   "cell_type": "code",
   "execution_count": 14,
   "metadata": {},
   "outputs": [],
   "source": [
    "df_2 = analyze(df_1.select(\"client_ip\", \"session_id\", \"timestamp\", \"unix_timestamp\", \"request\")).cache()"
   ]
  },
  {
   "cell_type": "code",
   "execution_count": 15,
   "metadata": {},
   "outputs": [
    {
     "name": "stdout",
     "output_type": "stream",
     "text": [
      "+-------------+----------+---------------------------+---------------------------+--------------+------------------+\n",
      "|client_ip    |session_id|from_timestamp             |to_timestamp               |session_length|unique_url_request|\n",
      "+-------------+----------+---------------------------+---------------------------+--------------+------------------+\n",
      "|1.186.101.79 |1         |2015-07-22T10:45:55.881199Z|2015-07-22T11:00:50.329938Z|896           |11                |\n",
      "|1.186.101.79 |2         |2015-07-22T11:00:55.782460Z|2015-07-22T11:04:33.423920Z|219           |6                 |\n",
      "|1.186.103.240|1         |2015-07-22T17:41:09.173604Z|2015-07-22T17:41:20.784621Z|12            |5                 |\n",
      "|1.186.103.78 |1         |2015-07-22T10:47:42.681800Z|2015-07-22T10:47:51.682285Z|10            |4                 |\n",
      "|1.186.108.213|1         |2015-07-22T16:21:11.280416Z|2015-07-22T16:23:04.187481Z|114           |2                 |\n",
      "|1.186.108.230|1         |2015-07-22T16:11:27.866483Z|2015-07-22T16:11:46.681689Z|20            |5                 |\n",
      "|1.186.108.242|1         |2015-07-22T16:22:49.444109Z|2015-07-22T16:22:52.294477Z|4             |3                 |\n",
      "|1.186.108.28 |1         |2015-07-22T17:45:21.606999Z|2015-07-22T17:45:27.686105Z|7             |80                |\n",
      "|1.186.108.29 |1         |2015-07-22T10:38:51.826976Z|2015-07-22T10:38:56.476670Z|6             |3                 |\n",
      "|1.186.108.79 |1         |2015-07-22T17:45:02.783653Z|2015-07-22T17:45:02.863232Z|1             |3                 |\n",
      "+-------------+----------+---------------------------+---------------------------+--------------+------------------+\n",
      "only showing top 10 rows\n",
      "\n"
     ]
    }
   ],
   "source": [
    "df_2.show(10, False)"
   ]
  },
  {
   "cell_type": "code",
   "execution_count": 16,
   "metadata": {},
   "outputs": [
    {
     "name": "stdout",
     "output_type": "stream",
     "text": [
      "Number of Distinct Sessions = 113382\n",
      "Average Session Time (Seconds) = 90.3661163148\n"
     ]
    }
   ],
   "source": [
    "print(\"Number of Distinct Sessions = {}\".format(df_2.count()))\n",
    "print(\"Average Session Time (Seconds) = {}\".format(df_2.agg(F.avg(\"session_length\").alias(\"avg_session_time\")).collect()[0][\"avg_session_time\"]))\n"
   ]
  },
  {
   "cell_type": "markdown",
   "metadata": {},
   "source": [
    "3) Determine unique URL visits per session. To clarify, count a hit to a unique URL only once per session.\n",
    "----------------"
   ]
  },
  {
   "cell_type": "code",
   "execution_count": 17,
   "metadata": {},
   "outputs": [
    {
     "name": "stdout",
     "output_type": "stream",
     "text": [
      "20 Clients/IP sessions with most number of unique URL requests\n",
      "+-------------+---------------------------+---------------------------+----------+------------------+\n",
      "|client_ip    |from_timestamp             |to_timestamp               |session_id|unique_url_request|\n",
      "+-------------+---------------------------+---------------------------+----------+------------------+\n",
      "|119.81.61.166|2015-07-22T16:10:28.394091Z|2015-07-22T16:25:05.211263Z|8         |8016              |\n",
      "|52.74.219.71 |2015-07-22T16:10:28.056562Z|2015-07-22T16:25:05.202249Z|8         |5478              |\n",
      "|52.74.219.71 |2015-07-22T10:30:28.220275Z|2015-07-22T10:39:47.427020Z|5         |5057              |\n",
      "|106.186.23.95|2015-07-22T21:05:28.048908Z|2015-07-22T21:10:27.952944Z|12        |4656              |\n",
      "|119.81.61.166|2015-07-22T17:40:28.042128Z|2015-07-22T17:45:28.037648Z|10        |3928              |\n",
      "|119.81.61.166|2015-07-22T18:00:28.603200Z|2015-07-22T18:05:27.768298Z|11        |3637              |\n",
      "|119.81.61.166|2015-07-22T02:40:06.770390Z|2015-07-22T02:45:03.781765Z|1         |3334              |\n",
      "|52.74.219.71 |2015-07-22T18:00:28.444086Z|2015-07-22T18:05:27.566212Z|11        |2907              |\n",
      "|119.81.61.166|2015-07-22T21:05:28.042763Z|2015-07-22T21:10:27.654732Z|12        |2841              |\n",
      "|119.81.61.166|2015-07-22T16:40:28.222688Z|2015-07-22T16:44:48.462751Z|9         |2786              |\n",
      "|106.51.132.54|2015-07-22T16:10:28.051642Z|2015-07-22T16:14:52.013537Z|1         |2609              |\n",
      "|52.74.219.71 |2015-07-22T09:00:28.348141Z|2015-07-22T09:04:43.352165Z|4         |2572              |\n",
      "|52.74.219.71 |2015-07-22T10:45:28.320258Z|2015-07-22T10:49:52.557803Z|6         |2569              |\n",
      "|52.74.219.71 |2015-07-22T17:40:28.080159Z|2015-07-22T17:45:27.904253Z|10        |2535              |\n",
      "|52.74.219.71 |2015-07-22T21:05:28.077091Z|2015-07-22T21:10:27.950160Z|12        |2466              |\n",
      "|52.74.219.71 |2015-07-22T16:40:28.370059Z|2015-07-22T16:44:48.434167Z|9         |2458              |\n",
      "|52.74.219.71 |2015-07-22T05:10:07.342661Z|2015-07-22T05:15:07.066653Z|2         |2037              |\n",
      "|52.74.219.71 |2015-07-22T11:00:28.722157Z|2015-07-22T11:04:57.382184Z|7         |1958              |\n",
      "|54.169.20.106|2015-07-22T16:10:29.567476Z|2015-07-22T16:24:03.207080Z|3         |1896              |\n",
      "|119.81.61.166|2015-07-22T06:55:07.896678Z|2015-07-22T07:00:07.059378Z|3         |1671              |\n",
      "+-------------+---------------------------+---------------------------+----------+------------------+\n",
      "only showing top 20 rows\n",
      "\n"
     ]
    }
   ],
   "source": [
    "# df_2.unique_url_request contains the number of unique URL request made by a client during a session.\n",
    "print(\"20 Clients/IP sessions with most number of unique URL requests\")\n",
    "df_2.select(\"client_ip\", \"from_timestamp\", \"to_timestamp\", \"session_id\", \"unique_url_request\").sort(\"unique_url_request\", ascending=False).show(20, False)"
   ]
  },
  {
   "cell_type": "markdown",
   "metadata": {},
   "source": [
    "4) Find the most engaged users, ie the IPs with the longest session times.\n",
    "------------\n"
   ]
  },
  {
   "cell_type": "code",
   "execution_count": 18,
   "metadata": {},
   "outputs": [
    {
     "name": "stdout",
     "output_type": "stream",
     "text": [
      "20 Most Engaged Users (IP with largest total session times)\n",
      "+---------------+------------------------------+\n",
      "|client_ip      |total_session_length (Minutes)|\n",
      "+---------------+------------------------------+\n",
      "|54.251.151.39  |87.38333333333334             |\n",
      "|121.58.175.128 |82.63333333333334             |\n",
      "|220.226.206.7  |81.66666666666667             |\n",
      "|180.179.213.94 |73.3                          |\n",
      "|52.74.219.71   |71.55                         |\n",
      "|119.81.61.166  |71.45                         |\n",
      "|54.252.254.204 |71.38333333333334             |\n",
      "|122.252.231.14 |69.65                         |\n",
      "|180.179.213.71 |69.23333333333333             |\n",
      "|207.46.13.22   |67.7                          |\n",
      "|106.186.23.95  |66.1                          |\n",
      "|176.34.159.236 |65.66666666666667             |\n",
      "|54.255.254.236 |64.96666666666667             |\n",
      "|168.235.197.212|63.86666666666667             |\n",
      "|54.232.40.76   |63.56666666666667             |\n",
      "|54.243.31.236  |63.1                          |\n",
      "|116.50.59.180  |62.21666666666667             |\n",
      "|177.71.207.172 |61.93333333333333             |\n",
      "|54.183.255.140 |61.916666666666664            |\n",
      "|125.19.44.66   |61.43333333333333             |\n",
      "+---------------+------------------------------+\n",
      "only showing top 20 rows\n",
      "\n"
     ]
    }
   ],
   "source": [
    "print(\"20 Most Engaged Users (IP with largest total session times)\")\n",
    "df_2.groupby(\"client_ip\").agg((F.sum(\"session_length\")/F.lit(60.0)).alias(\"total_session_length (Minutes)\")).sort(\"total_session_length (Minutes)\", ascending=False).show(20, False)"
   ]
  },
  {
   "cell_type": "markdown",
   "metadata": {},
   "source": [
    "Additional questions for Machine Learning Engineer (MLE) candidates:\n",
    "---------------"
   ]
  },
  {
   "cell_type": "code",
   "execution_count": 19,
   "metadata": {},
   "outputs": [],
   "source": [
    "#Keep minute precision\n",
    "df_t_1 = df_1.withColumn(\"hour_minute\", df.timestamp.substr(12,5))\\\n",
    ".withColumn(\"hour\", df.timestamp.substr(12,2).cast('integer'))\\\n",
    ".withColumn(\"timestamp\", F.col(\"timestamp\").substr(0,16).cast('timestamp'))\n",
    "\n",
    "df_t_2 = df_t_1.groupby(\"timestamp\").agg((F.count(\"timestamp\")/60).alias(\"label\"),\n",
    "                                        F.sum(\"received_bytes\").alias(\"received_bytes\"), \n",
    "                                        F.sum(\"sent_bytes\").alias(\"sent_bytes\"), \n",
    "                                        F.countDistinct(\"request\").alias(\"unique_request_count\"), \n",
    "                                        F.countDistinct(\"client_ip\").alias(\"unique_ip_count\"), \n",
    "                                        F.first(\"hour_minute\").alias(\"hour_minute\"), \n",
    "                                        F.first(\"hour\").alias(\"hour\")).sort([\"hour_minute\"]).cache()"
   ]
  },
  {
   "cell_type": "code",
   "execution_count": 20,
   "metadata": {},
   "outputs": [],
   "source": [
    "w = Window.partitionBy().orderBy([\"hour_minute\"])\n",
    "df_t_3 = df_t_2.select(\"hour\", \"hour_minute\", F.lag(\"sent_bytes\").over(w).alias(\"prev_sent_bytes\"), \n",
    "                       F.lag(\"received_bytes\").over(w).alias(\"prev_received_bytes\"), \n",
    "                       F.lag(\"unique_request_count\").over(w).alias(\"prev_unique_request_count\"), \n",
    "                       F.lag(\"unique_ip_count\").over(w).alias(\"prev_unique_ip_count\"), \n",
    "                       F.lag(\"label\").over(w).alias(\"prev_load\"), \"label\").where(F.col(\"prev_sent_bytes\").isNotNull()).cache()"
   ]
  },
  {
   "cell_type": "code",
   "execution_count": 21,
   "metadata": {},
   "outputs": [],
   "source": [
    "train, test = df_t_3.randomSplit([0.8, 0.2], seed=2019)"
   ]
  },
  {
   "cell_type": "markdown",
   "metadata": {},
   "source": [
    "1) Predict the expected load (requests/second) in the next minute\n",
    "----------------"
   ]
  },
  {
   "cell_type": "code",
   "execution_count": 33,
   "metadata": {},
   "outputs": [],
   "source": [
    "from pyspark.ml import Pipeline\n",
    "from pyspark.ml.regression import GBTRegressor\n",
    "from pyspark.ml.evaluation import RegressionEvaluator\n",
    "from pyspark.ml.tuning import CrossValidator, ParamGridBuilder\n",
    "from pyspark.ml.feature import VectorAssembler\n",
    "from pyspark.ml.feature import PolynomialExpansion\n",
    "from pyspark.ml.feature import VectorAssembler\n",
    "from pyspark.ml.feature import OneHotEncoderEstimator\n",
    "\n",
    "# encoder = OneHotEncoderEstimator(inputCols=[\"hour\"], outputCols=[\"categoryHour\"])\n",
    "# \"hour\", \"minute\", \n",
    "assembler = VectorAssembler(inputCols=[\"prev_sent_bytes\", \"prev_received_bytes\", \n",
    "                                       \"prev_unique_request_count\", \"prev_unique_ip_count\"\n",
    "                                       ], outputCol=\"features\") #\"prev_load\", \"categoryHour\"\n",
    "\n",
    "\n",
    "gbt = GBTRegressor(seed=42, featuresCol=\"features\", labelCol=\"label\")\n",
    "pipeline = Pipeline(stages=[encoder, assembler, gbt])\n",
    "\n",
    "\n",
    "paramGrid = ParamGridBuilder().addGrid(gbt.maxDepth, [4, 5, 6]).build()\n",
    "crossval = CrossValidator(estimator=pipeline, estimatorParamMaps=paramGrid, evaluator=RegressionEvaluator(), numFolds=5)\n",
    "# Run cross-validation, and choose the best set of parameters.\n",
    "cvModel = crossval.fit(train)\n",
    "\n",
    "# Make predictions on test documents. cvModel uses the best model found (lrModel).\n",
    "prediction = cvModel.transform(test)"
   ]
  },
  {
   "cell_type": "code",
   "execution_count": 34,
   "metadata": {},
   "outputs": [
    {
     "name": "stdout",
     "output_type": "stream",
     "text": [
      "Parameter value maxDepth for GBT = 4\n"
     ]
    }
   ],
   "source": [
    "print(\"Parameter value maxDepth for GBT = {}\".format(cvModel.bestModel.stages[2]._java_obj.getMaxDepth()))"
   ]
  },
  {
   "cell_type": "code",
   "execution_count": 35,
   "metadata": {},
   "outputs": [
    {
     "name": "stdout",
     "output_type": "stream",
     "text": [
      "Train\n",
      "RMSE: 11.323519\n",
      "r2: 0.994545\n",
      "\n",
      "Test\n",
      "RMSE: 88.358379\n",
      "r2: 0.674417\n"
     ]
    }
   ],
   "source": [
    "evaluator = RegressionEvaluator()\n",
    "print(\"Train\")\n",
    "print(\"RMSE: %f\" % evaluator.evaluate(cvModel.transform(train), {evaluator.metricName: \"rmse\"}))\n",
    "print(\"r2: %f\" % evaluator.evaluate(cvModel.transform(train), {evaluator.metricName: \"r2\"}))\n",
    "print(\"\")\n",
    "\n",
    "print(\"Test\")\n",
    "print(\"RMSE: %f\" % evaluator.evaluate(cvModel.transform(test), {evaluator.metricName: \"rmse\"}))\n",
    "print(\"r2: %f\" % evaluator.evaluate(cvModel.transform(test), {evaluator.metricName: \"r2\"}))"
   ]
  },
  {
   "cell_type": "code",
   "execution_count": 36,
   "metadata": {},
   "outputs": [
    {
     "data": {
      "image/png": "[encoded data removed]",
      "text/plain": [
       "<Figure size 720x288 with 1 Axes>"
      ]
     },
     "metadata": {
      "needs_background": "light"
     },
     "output_type": "display_data"
    }
   ],
   "source": [
    "%matplotlib inline \n",
    "import matplotlib.pyplot as plt\n",
    "import numpy as np\n",
    "\n",
    "prediction = np.array(sorted(cvModel.transform(test)\\\n",
    "                             .select(F.col(\"hour_minute\"), F.col(\"label\"), F.col(\"prediction\"))\\\n",
    "                             .rdd.map(lambda x: [x['hour_minute'], x['label'], x['prediction']]).collect()))\n",
    "\n",
    "fig = plt.figure(figsize=[10,4])\n",
    "plt.plot(prediction[:,0], np.array(prediction[:,1], 'float'), 'o',\n",
    "         prediction[:,0], np.array(prediction[:,2], 'float'), 'v')\n",
    "plt.xlabel('Time (HH-MM)')\n",
    "plt.ylabel('Load (Request/sec)')\n",
    "plt.xticks(rotation=45)\n",
    "plt.legend(['Actual', 'Predicted'])\n",
    "plt.show()"
   ]
  },
  {
   "cell_type": "markdown",
   "metadata": {},
   "source": [
    "2) Predict the session length for a given IP\n",
    "------------"
   ]
  },
  {
   "cell_type": "code",
   "execution_count": 183,
   "metadata": {},
   "outputs": [
    {
     "name": "stdout",
     "output_type": "stream",
     "text": [
      "root\n",
      " |-- client_port: string (nullable = true)\n",
      " |-- timestamp: timestamp (nullable = true)\n",
      " |-- elb: string (nullable = true)\n",
      " |-- backend_port: string (nullable = true)\n",
      " |-- request_processing_time: double (nullable = true)\n",
      " |-- backend_processing_time: double (nullable = true)\n",
      " |-- response_processing_time: double (nullable = true)\n",
      " |-- elb_status_code: long (nullable = true)\n",
      " |-- backend_status_code: long (nullable = true)\n",
      " |-- received_bytes: long (nullable = true)\n",
      " |-- sent_bytes: long (nullable = true)\n",
      " |-- request_type: string (nullable = true)\n",
      " |-- request: string (nullable = true)\n",
      " |-- user_agent: string (nullable = true)\n",
      " |-- ssl_cipher: string (nullable = true)\n",
      " |-- ssl_protocol: string (nullable = true)\n",
      " |-- unix_timestamp: long (nullable = true)\n",
      " |-- client_ip: string (nullable = true)\n",
      " |-- session_id: integer (nullable = true)\n",
      " |-- hour_minute: string (nullable = true)\n",
      " |-- hour: integer (nullable = true)\n",
      "\n"
     ]
    }
   ],
   "source": [
    "df_t_1.printSchema()"
   ]
  },
  {
   "cell_type": "code",
   "execution_count": 45,
   "metadata": {},
   "outputs": [],
   "source": [
    "def get_device_type(user_agent):\n",
    "    parsed = parse(user_agent)\n",
    "    return 'bot' if parsed.is_bot else ('mobile' if parsed.is_mobile else 'pc' if parsed.is_pc else 'other')\n",
    "\n",
    "udf_device_type = F.udf(lambda user_agent: get_device_type(user_agent), T.StringType())"
   ]
  },
  {
   "cell_type": "code",
   "execution_count": 46,
   "metadata": {},
   "outputs": [],
   "source": [
    "df_u_1 = df_t_1.groupby(\"client_ip\", \"session_id\")\\\n",
    ".agg((F.max(\"unix_timestamp\") - F.min(\"unix_timestamp\")).alias(\"session_length\"),\n",
    "     F.countDistinct(\"request\").alias(\"unique_url\"), \n",
    "     F.sum(\"sent_bytes\").alias(\"sent_bytes\"), \n",
    "     F.sum(\"received_bytes\").alias(\"received_bytes\"), \n",
    "     udf_device_type(F.first(\"user_agent\")).alias(\"device_type\"),\n",
    "     F.first(\"hour\").alias(\"hour\"))"
   ]
  },
  {
   "cell_type": "code",
   "execution_count": 47,
   "metadata": {},
   "outputs": [],
   "source": [
    "w = Window.partitionBy(\"client_ip\").orderBy([\"session_id\"])\n",
    "df_u_2 = df_u_1.select(\"client_ip\", \"session_id\", \"session_length\", \"unique_url\", \"hour\", \\\n",
    "                   F.lag(\"sent_bytes\").over(w).alias(\"prev_sent_bytes\"), \\\n",
    "                   F.lag(\"received_bytes\").over(w).alias(\"prev_received_bytes\"), \\\n",
    "                   F.lag(\"device_type\").over(w).alias(\"prev_device_type\"), \\\n",
    "                   F.lag(\"session_length\").over(w).alias(\"prev_session_length\"), \\\n",
    "                   F.lag(\"unique_url\").over(w).alias(\"prev_unique_url\"))\\\n",
    "                   .where(F.col(\"prev_device_type\").isNotNull()).cache()\n",
    "\n",
    "train, test = df_u_2.withColumn(\"label\", F.col(\"session_length\")).coalesce(1).randomSplit([0.8, 0.2], seed=2019)"
   ]
  },
  {
   "cell_type": "code",
   "execution_count": 49,
   "metadata": {},
   "outputs": [],
   "source": [
    "from pyspark.ml import Pipeline\n",
    "from pyspark.ml.regression import LinearRegression\n",
    "from pyspark.ml.evaluation import RegressionEvaluator\n",
    "from pyspark.ml.tuning import CrossValidator, ParamGridBuilder\n",
    "from pyspark.ml.feature import PolynomialExpansion\n",
    "from pyspark.ml.feature import VectorAssembler, StringIndexer\n",
    "from pyspark.ml.feature import OneHotEncoderEstimator\n",
    "\n",
    "indexer = StringIndexer(inputCol=\"prev_device_type\", outputCol=\"categoryIndexPrevDeviceType\")\n",
    "encoder = OneHotEncoderEstimator(inputCols=[\"categoryIndexPrevDeviceType\"], outputCols=[\"categoryDeviceType\"])\n",
    "assembler = VectorAssembler(inputCols=[\"categoryDeviceType\", \"prev_session_length\", \"hour\"], outputCol=\"features\")\n",
    "# assembler = VectorAssembler(inputCols=[\"prev_sent_bytes\", \"prev_received_bytes\", \n",
    "#                                        \"categoryDeviceType\", \"prev_session_length\",\n",
    "#                                       \"prev_unique_url\", \"hour\"], outputCol=\"feature\")\n",
    "# px = PolynomialExpansion(degree=4, inputCol=\"feature\", outputCol=\"features\")\n",
    "# lr = LinearRegression(featuresCol=\"features\", labelCol=\"label\")\n",
    "# pipeline = Pipeline(stages=[indexer, encoder, assembler, px, lr])\n",
    "\n",
    "# evaluator=RegressionEvaluator()\n",
    "# paramGrid = ParamGridBuilder().addGrid(px.degree, [1,2,3])\\\n",
    "# .addGrid(lr.regParam, [0.1, 0.01, 0.001]).build()\n",
    "\n",
    "# crossval = CrossValidator(estimator=pipeline, evaluator=evaluator, estimatorParamMaps=paramGrid, numFolds=5)\n",
    "\n",
    "gbt = GBTRegressor(seed=42, featuresCol=\"features\", labelCol=\"label\")\n",
    "pipeline = Pipeline(stages=[indexer, encoder, assembler, gbt])\n",
    "\n",
    "\n",
    "paramGrid = ParamGridBuilder().addGrid(gbt.maxDepth, [5]).build()\n",
    "crossval = CrossValidator(estimator=pipeline, estimatorParamMaps=paramGrid, evaluator=RegressionEvaluator(), numFolds=5)\n",
    "# Run cross-validation, and choose the best set of parameters.\n",
    "cvModel = crossval.fit(train)\n",
    "\n",
    "# Make predictions on test documents. cvModel uses the best model found (lrModel).\n",
    "prediction = cvModel.transform(test)"
   ]
  },
  {
   "cell_type": "code",
   "execution_count": 50,
   "metadata": {},
   "outputs": [
    {
     "name": "stdout",
     "output_type": "stream",
     "text": [
      "Parameter value maxDepth for GBT = 5\n"
     ]
    }
   ],
   "source": [
    "print(\"Parameter value maxDepth for GBT = {}\".format(cvModel.bestModel.stages[3]._java_obj.getMaxDepth()))\n",
    "\n",
    "# print(\"Best model regParam value = {}\".format(cvModel.bestModel.stages[2]._java_obj.getRegParam()))\n",
    "# print(\"Best model fitIntercept value = {}\".format(cvModel.bestModel.stages[2]._java_obj.getFitIntercept()))\n",
    "# print(\"Best model elasticNetParam value = {}\".format(cvModel.bestModel.stages[2]._java_obj.getElasticNetParam()))"
   ]
  },
  {
   "cell_type": "code",
   "execution_count": 51,
   "metadata": {},
   "outputs": [
    {
     "name": "stdout",
     "output_type": "stream",
     "text": [
      "+--------------+------------------+\n",
      "|session_length|prediction        |\n",
      "+--------------+------------------+\n",
      "|0             |67.1213721475371  |\n",
      "|270           |63.19823416332986 |\n",
      "|190           |116.33969023708472|\n",
      "|262           |236.3217042691993 |\n",
      "|0             |93.52859989513325 |\n",
      "|5             |67.56276251253202 |\n",
      "|26            |79.52172631299995 |\n",
      "|10            |116.33969023708472|\n",
      "|138           |165.90434563622838|\n",
      "|216           |77.94576559134234 |\n",
      "|67            |43.11090848969552 |\n",
      "|99            |182.20840364238637|\n",
      "|1             |69.95210126932778 |\n",
      "|30            |63.8726165215209  |\n",
      "|241           |74.16874267820364 |\n",
      "|55            |332.6848388555224 |\n",
      "|184           |84.37247372685488 |\n",
      "|115           |79.91320087346341 |\n",
      "|84            |85.42437399342805 |\n",
      "|0             |236.62081287325043|\n",
      "+--------------+------------------+\n",
      "only showing top 20 rows\n",
      "\n"
     ]
    }
   ],
   "source": [
    "prediction.select(\"session_length\", \"prediction\").show(20, False)"
   ]
  },
  {
   "cell_type": "code",
   "execution_count": 52,
   "metadata": {},
   "outputs": [
    {
     "name": "stdout",
     "output_type": "stream",
     "text": [
      "Train\n",
      "RMSE: 202.506846\n",
      "r2: 0.150590\n",
      "\n",
      "Test\n",
      "RMSE: 203.837784\n",
      "r2: 0.100585\n"
     ]
    }
   ],
   "source": [
    "evaluator = RegressionEvaluator()\n",
    "print(\"Train\")\n",
    "print(\"RMSE: %f\" % evaluator.evaluate(cvModel.transform(train), {evaluator.metricName: \"rmse\"}))\n",
    "print(\"r2: %f\" % evaluator.evaluate(cvModel.transform(train), {evaluator.metricName: \"r2\"}))\n",
    "print(\"\")\n",
    "print(\"Test\")\n",
    "print(\"RMSE: %f\" % evaluator.evaluate(cvModel.transform(test), {evaluator.metricName: \"rmse\"}))\n",
    "print(\"r2: %f\" % evaluator.evaluate(cvModel.transform(test), {evaluator.metricName: \"r2\"}))"
   ]
  },
  {
   "cell_type": "code",
   "execution_count": null,
   "metadata": {},
   "outputs": [],
   "source": [
    "%matplotlib inline \n",
    "import matplotlib.pyplot as plt\n",
    "import numpy as np\n",
    "\n",
    "prediction = np.array(sorted(cvModel.transform(test)\\\n",
    "                             .select(F.col(\"client_ip\"), F.col(\"label\"), F.col(\"prediction\"))\\\n",
    "                             .rdd.map(lambda x: [x['client_ip'], x['label'], x['prediction']]).collect()))\n",
    "\n",
    "fig = plt.figure(figsize=[10,4])\n",
    "plt.plot(prediction[:,0], np.array(prediction[:,1], 'float'), 'o',\n",
    "         prediction[:,0], np.array(prediction[:,2], 'float'), 'v')\n",
    "plt.xlabel('client IP')\n",
    "plt.ylabel('Session Length')\n",
    "plt.xticks(rotation=45)\n",
    "plt.legend(['Actual', 'Predicted'])\n",
    "plt.show()"
   ]
  },
  {
   "cell_type": "markdown",
   "metadata": {},
   "source": [
    "3) Predict the number of unique URL visits by a given IP\n",
    "------------------"
   ]
  },
  {
   "cell_type": "code",
   "execution_count": 322,
   "metadata": {},
   "outputs": [],
   "source": [
    "training = train.withColumn(\"label\", F.col(\"unique_url\"))"
   ]
  },
  {
   "cell_type": "code",
   "execution_count": 323,
   "metadata": {},
   "outputs": [
    {
     "ename": "KeyboardInterrupt",
     "evalue": "",
     "output_type": "error",
     "traceback": [
      "\u001b[0;31m---------------------------------------------------------------------------\u001b[0m",
      "\u001b[0;31mIndexError\u001b[0m                                Traceback (most recent call last)",
      "\u001b[0;32m~/anaconda3/lib/python3.7/multiprocessing/pool.py\u001b[0m in \u001b[0;36mnext\u001b[0;34m(self, timeout)\u001b[0m\n\u001b[1;32m    732\u001b[0m             \u001b[0;32mtry\u001b[0m\u001b[0;34m:\u001b[0m\u001b[0;34m\u001b[0m\u001b[0;34m\u001b[0m\u001b[0m\n\u001b[0;32m--> 733\u001b[0;31m                 \u001b[0mitem\u001b[0m \u001b[0;34m=\u001b[0m \u001b[0mself\u001b[0m\u001b[0;34m.\u001b[0m\u001b[0m_items\u001b[0m\u001b[0;34m.\u001b[0m\u001b[0mpopleft\u001b[0m\u001b[0;34m(\u001b[0m\u001b[0;34m)\u001b[0m\u001b[0;34m\u001b[0m\u001b[0;34m\u001b[0m\u001b[0m\n\u001b[0m\u001b[1;32m    734\u001b[0m             \u001b[0;32mexcept\u001b[0m \u001b[0mIndexError\u001b[0m\u001b[0;34m:\u001b[0m\u001b[0;34m\u001b[0m\u001b[0;34m\u001b[0m\u001b[0m\n",
      "\u001b[0;31mIndexError\u001b[0m: pop from an empty deque",
      "\nDuring handling of the above exception, another exception occurred:\n",
      "\u001b[0;31mKeyboardInterrupt\u001b[0m                         Traceback (most recent call last)",
      "\u001b[0;32m<ipython-input-323-17dea2470e02>\u001b[0m in \u001b[0;36m<module>\u001b[0;34m\u001b[0m\n\u001b[1;32m     23\u001b[0m \u001b[0mcrossval\u001b[0m \u001b[0;34m=\u001b[0m \u001b[0mCrossValidator\u001b[0m\u001b[0;34m(\u001b[0m\u001b[0mestimator\u001b[0m\u001b[0;34m=\u001b[0m\u001b[0mpipeline\u001b[0m\u001b[0;34m,\u001b[0m \u001b[0mestimatorParamMaps\u001b[0m\u001b[0;34m=\u001b[0m\u001b[0mparamGrid\u001b[0m\u001b[0;34m,\u001b[0m \u001b[0mevaluator\u001b[0m\u001b[0;34m=\u001b[0m\u001b[0mRegressionEvaluator\u001b[0m\u001b[0;34m(\u001b[0m\u001b[0;34m)\u001b[0m\u001b[0;34m,\u001b[0m \u001b[0mnumFolds\u001b[0m\u001b[0;34m=\u001b[0m\u001b[0;36m5\u001b[0m\u001b[0;34m)\u001b[0m\u001b[0;34m\u001b[0m\u001b[0;34m\u001b[0m\u001b[0m\n\u001b[1;32m     24\u001b[0m \u001b[0;31m# Run cross-validation, and choose the best set of parameters.\u001b[0m\u001b[0;34m\u001b[0m\u001b[0;34m\u001b[0m\u001b[0;34m\u001b[0m\u001b[0m\n\u001b[0;32m---> 25\u001b[0;31m \u001b[0mcvModel\u001b[0m \u001b[0;34m=\u001b[0m \u001b[0mcrossval\u001b[0m\u001b[0;34m.\u001b[0m\u001b[0mfit\u001b[0m\u001b[0;34m(\u001b[0m\u001b[0mtraining\u001b[0m\u001b[0;34m)\u001b[0m\u001b[0;34m\u001b[0m\u001b[0;34m\u001b[0m\u001b[0m\n\u001b[0m\u001b[1;32m     26\u001b[0m \u001b[0;34m\u001b[0m\u001b[0m\n\u001b[1;32m     27\u001b[0m \u001b[0;31m# Make predictions on test documents. cvModel uses the best model found (lrModel).\u001b[0m\u001b[0;34m\u001b[0m\u001b[0;34m\u001b[0m\u001b[0;34m\u001b[0m\u001b[0m\n",
      "\u001b[0;32m~/anaconda3/lib/python3.7/site-packages/pyspark/ml/base.py\u001b[0m in \u001b[0;36mfit\u001b[0;34m(self, dataset, params)\u001b[0m\n\u001b[1;32m    130\u001b[0m                 \u001b[0;32mreturn\u001b[0m \u001b[0mself\u001b[0m\u001b[0;34m.\u001b[0m\u001b[0mcopy\u001b[0m\u001b[0;34m(\u001b[0m\u001b[0mparams\u001b[0m\u001b[0;34m)\u001b[0m\u001b[0;34m.\u001b[0m\u001b[0m_fit\u001b[0m\u001b[0;34m(\u001b[0m\u001b[0mdataset\u001b[0m\u001b[0;34m)\u001b[0m\u001b[0;34m\u001b[0m\u001b[0;34m\u001b[0m\u001b[0m\n\u001b[1;32m    131\u001b[0m             \u001b[0;32melse\u001b[0m\u001b[0;34m:\u001b[0m\u001b[0;34m\u001b[0m\u001b[0;34m\u001b[0m\u001b[0m\n\u001b[0;32m--> 132\u001b[0;31m                 \u001b[0;32mreturn\u001b[0m \u001b[0mself\u001b[0m\u001b[0;34m.\u001b[0m\u001b[0m_fit\u001b[0m\u001b[0;34m(\u001b[0m\u001b[0mdataset\u001b[0m\u001b[0;34m)\u001b[0m\u001b[0;34m\u001b[0m\u001b[0;34m\u001b[0m\u001b[0m\n\u001b[0m\u001b[1;32m    133\u001b[0m         \u001b[0;32melse\u001b[0m\u001b[0;34m:\u001b[0m\u001b[0;34m\u001b[0m\u001b[0;34m\u001b[0m\u001b[0m\n\u001b[1;32m    134\u001b[0m             raise ValueError(\"Params must be either a param map or a list/tuple of param maps, \"\n",
      "\u001b[0;32m~/anaconda3/lib/python3.7/site-packages/pyspark/ml/tuning.py\u001b[0m in \u001b[0;36m_fit\u001b[0;34m(self, dataset)\u001b[0m\n\u001b[1;32m    302\u001b[0m \u001b[0;34m\u001b[0m\u001b[0m\n\u001b[1;32m    303\u001b[0m             \u001b[0mtasks\u001b[0m \u001b[0;34m=\u001b[0m \u001b[0m_parallelFitTasks\u001b[0m\u001b[0;34m(\u001b[0m\u001b[0mest\u001b[0m\u001b[0;34m,\u001b[0m \u001b[0mtrain\u001b[0m\u001b[0;34m,\u001b[0m \u001b[0meva\u001b[0m\u001b[0;34m,\u001b[0m \u001b[0mvalidation\u001b[0m\u001b[0;34m,\u001b[0m \u001b[0mepm\u001b[0m\u001b[0;34m,\u001b[0m \u001b[0mcollectSubModelsParam\u001b[0m\u001b[0;34m)\u001b[0m\u001b[0;34m\u001b[0m\u001b[0;34m\u001b[0m\u001b[0m\n\u001b[0;32m--> 304\u001b[0;31m             \u001b[0;32mfor\u001b[0m \u001b[0mj\u001b[0m\u001b[0;34m,\u001b[0m \u001b[0mmetric\u001b[0m\u001b[0;34m,\u001b[0m \u001b[0msubModel\u001b[0m \u001b[0;32min\u001b[0m \u001b[0mpool\u001b[0m\u001b[0;34m.\u001b[0m\u001b[0mimap_unordered\u001b[0m\u001b[0;34m(\u001b[0m\u001b[0;32mlambda\u001b[0m \u001b[0mf\u001b[0m\u001b[0;34m:\u001b[0m \u001b[0mf\u001b[0m\u001b[0;34m(\u001b[0m\u001b[0;34m)\u001b[0m\u001b[0;34m,\u001b[0m \u001b[0mtasks\u001b[0m\u001b[0;34m)\u001b[0m\u001b[0;34m:\u001b[0m\u001b[0;34m\u001b[0m\u001b[0;34m\u001b[0m\u001b[0m\n\u001b[0m\u001b[1;32m    305\u001b[0m                 \u001b[0mmetrics\u001b[0m\u001b[0;34m[\u001b[0m\u001b[0mj\u001b[0m\u001b[0;34m]\u001b[0m \u001b[0;34m+=\u001b[0m \u001b[0;34m(\u001b[0m\u001b[0mmetric\u001b[0m \u001b[0;34m/\u001b[0m \u001b[0mnFolds\u001b[0m\u001b[0;34m)\u001b[0m\u001b[0;34m\u001b[0m\u001b[0;34m\u001b[0m\u001b[0m\n\u001b[1;32m    306\u001b[0m                 \u001b[0;32mif\u001b[0m \u001b[0mcollectSubModelsParam\u001b[0m\u001b[0;34m:\u001b[0m\u001b[0;34m\u001b[0m\u001b[0;34m\u001b[0m\u001b[0m\n",
      "\u001b[0;32m~/anaconda3/lib/python3.7/multiprocessing/pool.py\u001b[0m in \u001b[0;36mnext\u001b[0;34m(self, timeout)\u001b[0m\n\u001b[1;32m    735\u001b[0m                 \u001b[0;32mif\u001b[0m \u001b[0mself\u001b[0m\u001b[0;34m.\u001b[0m\u001b[0m_index\u001b[0m \u001b[0;34m==\u001b[0m \u001b[0mself\u001b[0m\u001b[0;34m.\u001b[0m\u001b[0m_length\u001b[0m\u001b[0;34m:\u001b[0m\u001b[0;34m\u001b[0m\u001b[0;34m\u001b[0m\u001b[0m\n\u001b[1;32m    736\u001b[0m                     \u001b[0;32mraise\u001b[0m \u001b[0mStopIteration\u001b[0m \u001b[0;32mfrom\u001b[0m \u001b[0;32mNone\u001b[0m\u001b[0;34m\u001b[0m\u001b[0;34m\u001b[0m\u001b[0m\n\u001b[0;32m--> 737\u001b[0;31m                 \u001b[0mself\u001b[0m\u001b[0;34m.\u001b[0m\u001b[0m_cond\u001b[0m\u001b[0;34m.\u001b[0m\u001b[0mwait\u001b[0m\u001b[0;34m(\u001b[0m\u001b[0mtimeout\u001b[0m\u001b[0;34m)\u001b[0m\u001b[0;34m\u001b[0m\u001b[0;34m\u001b[0m\u001b[0m\n\u001b[0m\u001b[1;32m    738\u001b[0m                 \u001b[0;32mtry\u001b[0m\u001b[0;34m:\u001b[0m\u001b[0;34m\u001b[0m\u001b[0;34m\u001b[0m\u001b[0m\n\u001b[1;32m    739\u001b[0m                     \u001b[0mitem\u001b[0m \u001b[0;34m=\u001b[0m \u001b[0mself\u001b[0m\u001b[0;34m.\u001b[0m\u001b[0m_items\u001b[0m\u001b[0;34m.\u001b[0m\u001b[0mpopleft\u001b[0m\u001b[0;34m(\u001b[0m\u001b[0;34m)\u001b[0m\u001b[0;34m\u001b[0m\u001b[0;34m\u001b[0m\u001b[0m\n",
      "\u001b[0;32m~/anaconda3/lib/python3.7/threading.py\u001b[0m in \u001b[0;36mwait\u001b[0;34m(self, timeout)\u001b[0m\n\u001b[1;32m    294\u001b[0m         \u001b[0;32mtry\u001b[0m\u001b[0;34m:\u001b[0m    \u001b[0;31m# restore state no matter what (e.g., KeyboardInterrupt)\u001b[0m\u001b[0;34m\u001b[0m\u001b[0;34m\u001b[0m\u001b[0m\n\u001b[1;32m    295\u001b[0m             \u001b[0;32mif\u001b[0m \u001b[0mtimeout\u001b[0m \u001b[0;32mis\u001b[0m \u001b[0;32mNone\u001b[0m\u001b[0;34m:\u001b[0m\u001b[0;34m\u001b[0m\u001b[0;34m\u001b[0m\u001b[0m\n\u001b[0;32m--> 296\u001b[0;31m                 \u001b[0mwaiter\u001b[0m\u001b[0;34m.\u001b[0m\u001b[0macquire\u001b[0m\u001b[0;34m(\u001b[0m\u001b[0;34m)\u001b[0m\u001b[0;34m\u001b[0m\u001b[0;34m\u001b[0m\u001b[0m\n\u001b[0m\u001b[1;32m    297\u001b[0m                 \u001b[0mgotit\u001b[0m \u001b[0;34m=\u001b[0m \u001b[0;32mTrue\u001b[0m\u001b[0;34m\u001b[0m\u001b[0;34m\u001b[0m\u001b[0m\n\u001b[1;32m    298\u001b[0m             \u001b[0;32melse\u001b[0m\u001b[0;34m:\u001b[0m\u001b[0;34m\u001b[0m\u001b[0;34m\u001b[0m\u001b[0m\n",
      "\u001b[0;31mKeyboardInterrupt\u001b[0m: "
     ]
    }
   ],
   "source": [
    "from pyspark.ml import Pipeline\n",
    "from pyspark.ml.regression import LinearRegression\n",
    "from pyspark.ml.evaluation import RegressionEvaluator\n",
    "from pyspark.ml.tuning import CrossValidator, ParamGridBuilder\n",
    "from pyspark.ml.feature import VectorAssembler\n",
    "from pyspark.ml.feature import PolynomialExpansion\n",
    "from pyspark.ml.feature import VectorAssembler\n",
    "\n",
    "assembler = VectorAssembler(inputCols=[\"prev_sent_bytes\", \"prev_received_bytes\", \n",
    "                                       \"prev_response_processing_time\"], outputCol=\"vectorized\")\n",
    "\n",
    "polyExpansion = PolynomialExpansion(inputCol=\"vectorized\", outputCol=\"features\")\n",
    "lr = LinearRegression(maxIter=100, featuresCol=\"features\", labelCol=\"label\")\n",
    "pipeline = Pipeline(stages=[assembler, polyExpansion, lr])\n",
    "\n",
    "\n",
    "paramGrid = ParamGridBuilder().addGrid(polyExpansion.degree, [1, 2, 3])\\\n",
    ".addGrid(lr.regParam, [0.1, 0.01, 0.001]).build()\n",
    "# .addGrid(lr.fitIntercept, [False, True])\\\n",
    "# .addGrid(lr.elasticNetParam, [0.0, 0.5, 1.0])\\\n",
    "# .build()\n",
    "\n",
    "crossval = CrossValidator(estimator=pipeline, estimatorParamMaps=paramGrid, evaluator=RegressionEvaluator(), numFolds=5)\n",
    "# Run cross-validation, and choose the best set of parameters.\n",
    "cvModel = crossval.fit(training)\n",
    "\n",
    "# Make predictions on test documents. cvModel uses the best model found (lrModel).\n",
    "prediction = cvModel.transform(test)"
   ]
  },
  {
   "cell_type": "code",
   "execution_count": null,
   "metadata": {},
   "outputs": [],
   "source": [
    "print(\"Best model degree of polynomail = {}\".format(cvModel.bestModel.stages[1]._java_obj.getDegree()))\n",
    "print(\"Best model regParam value = {}\".format(cvModel.bestModel.stages[2]._java_obj.getRegParam()))\n",
    "# print(\"Best model fitIntercept value = {}\".format(cvModel.bestModel.stages[2]._java_obj.getFitIntercept()))\n",
    "# print(\"Best model elasticNetParam value = {}\".format(cvModel.bestModel.stages[2]._java_obj.getElasticNetParam()))"
   ]
  },
  {
   "cell_type": "code",
   "execution_count": null,
   "metadata": {},
   "outputs": [],
   "source": [
    "prediction.select(\"unique_url\", \"prediction\").show(20, False)"
   ]
  },
  {
   "cell_type": "code",
   "execution_count": null,
   "metadata": {},
   "outputs": [],
   "source": [
    "trainingSummary = cvModel.bestModel.stages[2].summary\n",
    "print(\"RMSE: %f\" % trainingSummary.rootMeanSquaredError)\n",
    "print(\"r2: %f\" % trainingSummary.r2)"
   ]
  },
  {
   "cell_type": "code",
   "execution_count": null,
   "metadata": {},
   "outputs": [],
   "source": []
  }
 ],
 "metadata": {
  "analyzedDataset": "2015_07_22_mktplace_shop_web_log_sample_sorted",
  "creator": "admin",
  "kernelspec": {
   "display_name": "Python 2",
   "language": "python",
   "name": "python2"
  },
  "language_info": {
   "codemirror_mode": {
    "name": "ipython",
    "version": 2
   },
   "file_extension": ".py",
   "mimetype": "text/x-python",
   "name": "python",
   "nbconvert_exporter": "python",
   "pygments_lexer": "ipython2",
   "version": "2.7.12"
  },
  "tags": []
 },
 "nbformat": 4,
 "nbformat_minor": 1
}

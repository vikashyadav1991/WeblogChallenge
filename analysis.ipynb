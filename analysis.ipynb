{
 "cells": [
  {
   "cell_type": "code",
   "execution_count": 1,
   "metadata": {},
   "outputs": [],
   "source": [
    "import pandas as pd\n",
    "import pyspark\n",
    "from pyspark.sql import SparkSession\n",
    "from pyspark.sql import SQLContext, Window\n",
    "from pyspark.sql import functions as F\n",
    "from pyspark.sql import types as T\n",
    "import re\n",
    "# Load PySpark\n",
    "spark = SparkSession.builder.appName('Analysis').getOrCreate()\n",
    "sc = pyspark.SparkContext.getOrCreate()"
   ]
  },
  {
   "cell_type": "code",
   "execution_count": 2,
   "metadata": {},
   "outputs": [],
   "source": [
    "regx = r\"^(\\S+) (\\S+) (\\S+) (\\S+) (\\S+) (\\S+) (\\S+) (\\S+) (\\S+) (\\S+) (\\S+) \\S+ (\\S+) \\S+ (.*) (\\S+) (\\S+)$\"\n",
    "rdd = sc.textFile(\"data/2015_07_22_mktplace_shop_web_log_sample.log.gz\").map(lambda x: re.split(regx, x)[1:16])\n",
    "rdd_ = rdd.map(lambda x: (x[0], x[1], x[2], x[3], float(x[4]), float(x[5]), float(x[6]), int(x[7]), int(x[8]), int(x[9]), int(x[10]), x[11], x[12], x[13], x[14]))"
   ]
  },
  {
   "cell_type": "code",
   "execution_count": 3,
   "metadata": {},
   "outputs": [],
   "source": [
    "Schema = T.StructType([T.StructField(\"timestamp\", T.StringType(), True),\n",
    "                                    T.StructField(\"elb\", T.StringType(), True),\n",
    "                                    T.StructField(\"client_port\", T.StringType(), True),\n",
    "                                    T.StructField(\"backend_port\", T.StringType(), True),\n",
    "                                    T.StructField(\"request_processing_time\", T.DoubleType(), True),\n",
    "                                    T.StructField(\"backend_processing_time\", T.DoubleType(), True),\n",
    "                                    T.StructField(\"response_processing_time\", T.DoubleType(), True),\n",
    "                                    T.StructField(\"elb_status_code\", T.LongType(), True),\n",
    "                                    T.StructField(\"backend_status_code\", T.LongType(), True),\n",
    "                                    T.StructField(\"received_bytes\", T.LongType(), True),\n",
    "                                    T.StructField(\"sent_bytes\", T.LongType(), True),\n",
    "                                    T.StructField(\"request\", T.StringType(), True),\n",
    "                                    T.StructField(\"user_agent\", T.StringType(), True),\n",
    "                                    T.StructField(\"ssl_cipher\", T.StringType(), True),\n",
    "                                    T.StructField(\"ssl_protocol\", T.StringType(), True)])"
   ]
  },
  {
   "cell_type": "code",
   "execution_count": 4,
   "metadata": {},
   "outputs": [],
   "source": [
    "# df = spark.read.csv(\"data/2015_07_22_mktplace_shop_web_log_sample.log.gz\", Schema, sep = \" \", ignoreLeadingWhiteSpace=True, ignoreTrailingWhiteSpace=True).cache()\n",
    "df = spark.createDataFrame(rdd_, schema=Schema)"
   ]
  },
  {
   "cell_type": "code",
   "execution_count": 5,
   "metadata": {},
   "outputs": [],
   "source": [
    "def sessionize(df):\n",
    "    time_frame = 15 * 60  # 15 mins * 60\n",
    "    w = Window.partitionBy(\"client_ip\").orderBy(\"timestamp\")\n",
    "    diff = F.coalesce(F.unix_timestamp(F.col(\"timestamp\")) - F.unix_timestamp(F.lag(F.col(\"timestamp\"), 1).over(w)), F.lit(0))\n",
    "    cum_diff = F.sum(diff).over(w)\n",
    "    subgroup = (cum_diff / time_frame).cast('integer').alias(\"session_id\")\n",
    "    return df.select(\"*\", subgroup)"
   ]
  },
  {
   "cell_type": "code",
   "execution_count": 6,
   "metadata": {},
   "outputs": [],
   "source": [
    "# Determine the average session time\n",
    "def get_avg_session_time(df):\n",
    "    df_ = df.groupby(\"client_ip\", \"session_id\").agg(((F.unix_timestamp(F.max(\"timestamp\")) - F.unix_timestamp(F.min(\"timestamp\")) + 1)/60).alias(\"session_length\"))\n",
    "    avg_session_time = df_.agg(F.avg(\"session_length\").alias(\"avg_session_time\")).collect()[0][\"avg_session_time\"]\n",
    "    return avg_session_time\n",
    "\n",
    "# Find the most engaged users, ie the IPs with the longest session times\n",
    "def get_most_engaged_user(df):\n",
    "    df_ = df.groupby(\"client_ip\", \"session_id\").agg(F.min(\"timestamp\").alias(\"from_timestamp\"), F.max(\"timestamp\").alias(\"to_timestamp\"), ((F.unix_timestamp(F.max(\"timestamp\")) - F.unix_timestamp(F.min(\"timestamp\")) + 1)/60).alias(\"session_length\"))\n",
    "    return df_.orderBy(\"session_length\", ascending=False)\n",
    "\n",
    "# Determine unique URL visits per session. To clarify, count a hit to a unique URL only once per session.\n",
    "def get_unique_url_request(df):\n",
    "    return df.groupby(\"client_ip\", \"session_id\").agg(F.countDistinct(\"request\").alias(\"unique_url_request\"))\n",
    "\n",
    "def analyze(df):\n",
    "    df_ = df.groupby(\"client_ip\", \"session_id\").agg(F.min(\"timestamp\").alias(\"from_timestamp\"), F.max(\"timestamp\").alias(\"to_timestamp\"), ((F.unix_timestamp(F.max(\"timestamp\")) - F.unix_timestamp(F.min(\"timestamp\")) + 1)/60).alias(\"session_length\"), F.countDistinct(\"request\").alias(\"unique_url_request\"))\n",
    "    return df_\n",
    "    "
   ]
  },
  {
   "cell_type": "code",
   "execution_count": 7,
   "metadata": {},
   "outputs": [],
   "source": [
    "df_1 = df.withColumn(\"client_ip\", F.split(F.col(\"client_port\"), ':')[0])\\\n",
    ".withColumn(\"timestamp\", F.col(\"timestamp\").substr(0,19).cast('timestamp')).select(\"client_ip\", \"timestamp\", F.lower(F.col(\"request\")).alias(\"request\"))\n",
    "\n",
    "df_2 = sessionize(df_1)\n",
    "df_3 = analyze(df_2).cache()"
   ]
  },
  {
   "cell_type": "code",
   "execution_count": 8,
   "metadata": {},
   "outputs": [
    {
     "name": "stdout",
     "output_type": "stream",
     "text": [
      "Number of Distinct Sessions = 115936\n",
      "Average Session Time (Minutes) = 1.3433538043978264\n"
     ]
    }
   ],
   "source": [
    "print(\"Number of Distinct Sessions = {}\".format(df_2.groupby(\"client_ip\", \"session_id\").count().count()))\n",
    "print(\"Average Session Time (Minutes) = {}\".format(df_3.agg(F.avg(\"session_length\").alias(\"avg_session_time\")).collect()[0][\"avg_session_time\"]))\n"
   ]
  },
  {
   "cell_type": "code",
   "execution_count": 9,
   "metadata": {},
   "outputs": [
    {
     "name": "stdout",
     "output_type": "stream",
     "text": [
      "Number of clients which made a single request to only 1 unique URL = 25923\n",
      "\n",
      "20 Clients with most unique URL visits per session\n",
      "+-------------+-------------------+-------------------+------------------+\n",
      "|client_ip    |from_timestamp     |to_timestamp       |unique_url_request|\n",
      "+-------------+-------------------+-------------------+------------------+\n",
      "|119.81.61.166|2015-07-22 16:10:28|2015-07-22 16:25:05|8016              |\n",
      "|52.74.219.71 |2015-07-22 16:10:28|2015-07-22 16:25:05|5478              |\n",
      "|52.74.219.71 |2015-07-22 10:30:28|2015-07-22 10:39:47|5057              |\n",
      "|106.186.23.95|2015-07-22 21:05:28|2015-07-22 21:10:13|4320              |\n",
      "|119.81.61.166|2015-07-22 17:40:28|2015-07-22 17:45:28|3928              |\n",
      "|119.81.61.166|2015-07-22 18:00:28|2015-07-22 18:05:27|3637              |\n",
      "|119.81.61.166|2015-07-22 02:40:06|2015-07-22 02:45:03|3334              |\n",
      "|52.74.219.71 |2015-07-22 18:00:28|2015-07-22 18:05:27|2907              |\n",
      "|119.81.61.166|2015-07-22 21:05:28|2015-07-22 21:10:04|2807              |\n",
      "|119.81.61.166|2015-07-22 16:40:28|2015-07-22 16:44:48|2786              |\n",
      "|106.51.132.54|2015-07-22 16:10:28|2015-07-22 16:14:52|2609              |\n",
      "|52.74.219.71 |2015-07-22 09:00:28|2015-07-22 09:04:43|2572              |\n",
      "|52.74.219.71 |2015-07-22 10:45:28|2015-07-22 10:49:52|2569              |\n",
      "|52.74.219.71 |2015-07-22 17:40:28|2015-07-22 17:45:27|2535              |\n",
      "|52.74.219.71 |2015-07-22 16:40:28|2015-07-22 16:44:48|2458              |\n",
      "|52.74.219.71 |2015-07-22 21:05:28|2015-07-22 21:10:05|2318              |\n",
      "|52.74.219.71 |2015-07-22 05:10:07|2015-07-22 05:15:07|2037              |\n",
      "|52.74.219.71 |2015-07-22 11:00:28|2015-07-22 11:04:57|1958              |\n",
      "|119.81.61.166|2015-07-22 06:55:07|2015-07-22 07:00:07|1671              |\n",
      "|54.169.20.106|2015-07-22 16:11:48|2015-07-22 16:24:03|1611              |\n",
      "+-------------+-------------------+-------------------+------------------+\n",
      "only showing top 20 rows\n",
      "\n"
     ]
    }
   ],
   "source": [
    "print(\"Number of clients which made a single request to only 1 unique URL = {}\".format(df_3.where(\"unique_url_request = 1\").count()))\n",
    "\n",
    "print()\n",
    "print(\"20 Clients with most unique URL visits per session\")\n",
    "df_3.select(\"client_ip\", \"from_timestamp\", \"to_timestamp\", \"unique_url_request\").sort(\"unique_url_request\", ascending=False).show(20, False)"
   ]
  },
  {
   "cell_type": "code",
   "execution_count": 10,
   "metadata": {},
   "outputs": [
    {
     "name": "stdout",
     "output_type": "stream",
     "text": [
      "Printing 20 Most Engaged Users with there session start and end time, session length in minutes\n",
      "+---------------+-------------------+-------------------+--------------+\n",
      "|client_ip      |from_timestamp     |to_timestamp       |session_length|\n",
      "+---------------+-------------------+-------------------+--------------+\n",
      "|125.16.58.78   |2015-07-22 10:45:45|2015-07-22 11:00:44|15.0          |\n",
      "|220.227.161.206|2015-07-22 10:34:11|2015-07-22 10:49:10|15.0          |\n",
      "|120.56.178.102 |2015-07-22 10:45:54|2015-07-22 11:00:53|15.0          |\n",
      "|106.76.143.18  |2015-07-22 10:46:34|2015-07-22 11:01:33|15.0          |\n",
      "|115.249.50.242 |2015-07-22 10:30:56|2015-07-22 10:45:55|15.0          |\n",
      "|117.218.65.155 |2015-07-22 10:46:47|2015-07-22 11:01:46|15.0          |\n",
      "|182.156.100.159|2015-07-22 10:46:26|2015-07-22 11:01:25|15.0          |\n",
      "|165.241.31.254 |2015-07-22 10:48:58|2015-07-22 11:03:57|15.0          |\n",
      "|117.218.41.153 |2015-07-22 10:31:02|2015-07-22 10:46:01|15.0          |\n",
      "|112.79.37.154  |2015-07-22 10:45:42|2015-07-22 11:00:41|15.0          |\n",
      "|103.251.16.184 |2015-07-22 10:31:37|2015-07-22 10:46:36|15.0          |\n",
      "|180.188.249.253|2015-07-22 10:46:23|2015-07-22 11:01:22|15.0          |\n",
      "|125.16.12.194  |2015-07-22 10:47:57|2015-07-22 11:02:56|15.0          |\n",
      "|115.245.254.253|2015-07-22 10:32:20|2015-07-22 10:47:19|15.0          |\n",
      "|164.100.123.241|2015-07-22 10:30:49|2015-07-22 10:45:48|15.0          |\n",
      "|117.223.81.194 |2015-07-22 10:30:30|2015-07-22 10:45:29|15.0          |\n",
      "|14.99.239.11   |2015-07-22 10:34:37|2015-07-22 10:49:36|15.0          |\n",
      "|122.166.229.150|2015-07-22 10:33:53|2015-07-22 10:48:52|15.0          |\n",
      "|122.176.150.156|2015-07-22 10:31:43|2015-07-22 10:46:42|15.0          |\n",
      "|117.199.107.47 |2015-07-22 10:48:09|2015-07-22 11:03:08|15.0          |\n",
      "+---------------+-------------------+-------------------+--------------+\n",
      "only showing top 20 rows\n",
      "\n"
     ]
    }
   ],
   "source": [
    "print(\"Printing 20 Most Engaged Users with there session start and end time, session length in minutes\")\n",
    "df_3.select(\"client_ip\", \"from_timestamp\", \"to_timestamp\", \"session_length\").sort(\"session_length\", ascending=False).show(20, False)"
   ]
  },
  {
   "cell_type": "code",
   "execution_count": null,
   "metadata": {},
   "outputs": [],
   "source": []
  }
 ],
 "metadata": {
  "analyzedDataset": "2015_07_22_mktplace_shop_web_log_sample_sorted",
  "creator": "admin",
  "kernelspec": {
   "display_name": "Python 3",
   "language": "python",
   "name": "python3"
  },
  "language_info": {
   "codemirror_mode": {
    "name": "ipython",
    "version": 3
   },
   "file_extension": ".py",
   "mimetype": "text/x-python",
   "name": "python",
   "nbconvert_exporter": "python",
   "pygments_lexer": "ipython3",
   "version": "3.7.2"
  },
  "tags": []
 },
 "nbformat": 4,
 "nbformat_minor": 1
}
